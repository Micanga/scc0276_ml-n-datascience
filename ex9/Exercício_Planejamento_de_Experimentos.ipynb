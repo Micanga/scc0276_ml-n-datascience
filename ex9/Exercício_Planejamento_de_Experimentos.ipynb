{
  "nbformat": 4,
  "nbformat_minor": 0,
  "metadata": {
    "colab": {
      "name": "Exercício_Planejamento_de_Experimentos.ipynb",
      "provenance": [],
      "collapsed_sections": []
    },
    "kernelspec": {
      "display_name": "Python 3",
      "language": "python",
      "name": "python3"
    },
    "language_info": {
      "codemirror_mode": {
        "name": "ipython",
        "version": 3
      },
      "file_extension": ".py",
      "mimetype": "text/x-python",
      "name": "python",
      "nbconvert_exporter": "python",
      "pygments_lexer": "ipython3",
      "version": "3.6.9"
    }
  },
  "cells": [
    {
      "cell_type": "markdown",
      "metadata": {
        "colab_type": "text",
        "id": "CI8fNbys1WIN"
      },
      "source": [
        "# Exercício 05\n",
        "## Planejamento de Experimentos\n",
        "### Alunos:\n",
        "\n",
        "- Fernanda Tostes Marana (4471070)\n",
        "- Matheus Aparecido do Carmo Alves (9791114)\n",
        "- Thais Bianchini (9791010)\n"
      ]
    },
    {
      "cell_type": "markdown",
      "metadata": {
        "colab_type": "text",
        "id": "ae7mLCZI-DjC"
      },
      "source": [
        "---\n"
      ]
    },
    {
      "cell_type": "markdown",
      "metadata": {
        "colab_type": "text",
        "id": "ugQ3MbYx99I-"
      },
      "source": [
        "## Objetivos da prática:\n",
        "- Entender modelagem de dados;\n",
        "- Entender o processo de avaliação;\n",
        "- Trabalhar com procedimentos de amostragem;\n",
        "- Trabalhar com várias medidas de avaliação."
      ]
    },
    {
      "cell_type": "markdown",
      "metadata": {
        "colab_type": "text",
        "id": "R6lfIEgb1WIQ"
      },
      "source": [
        "\n",
        "---\n",
        "\n",
        "## Funções novas utilizadas no exercício\n",
        "\n",
        "- [sklearn.metrics.confusion_matrix](https://scikit-learn.org/stable/modules/generated/sklearn.metrics.confusion_matrix.html?highlight=confusion_matrix#sklearn.metrics.confusion_matrix)\n",
        "\n",
        "\n",
        "\n"
      ]
    },
    {
      "cell_type": "markdown",
      "metadata": {
        "colab_type": "text",
        "id": "GD84PKIi1WIR"
      },
      "source": [
        "\n",
        "---\n",
        "\n",
        "**Escolha, entre as opções abaixo, apenas UM dataset para realizar os exercícios.**\n",
        "\n",
        "**Se o dataset escolhido tiver mais de duas classes, transforme ele num problema binário. Isso pode ser feito escolhendo uma classe para representar a classe positiva e o restante a classe negativa.**\n",
        "\n",
        "**Possíveis datasets:**\n",
        "\n",
        "\n",
        "*   **Câncer de mama:** [sklearn.datasets.load_breast_cancer](https://scikit-learn.org/stable/modules/generated/sklearn.datasets.load_breast_cancer.html#sklearn.datasets.load_breast_cancer)\n",
        "*   **Wine:** [sklearn.datasets.load_wine](https://scikit-learn.org/stable/modules/generated/sklearn.datasets.load_wine.html#sklearn.datasets.load_wine)\n",
        "\n",
        "\n",
        "---\n",
        "\n",
        "\n",
        "Após a análise dos dados e um pré-processamento vem a etapa de modelagem dos experimentos. Essa etapa pode requerer voltar no pré-processamento caso perceba-se que algo precisa ser feito. A modelagem visa determinar as etapas da execução dos experimentos. No nosso cenário, experimento é a utilização de algoritmos de classificação, regressão ou agrupamento. Para tanto, é preciso definir, com ajuda da análise dos dados, o tipo do problema (classificação, regressão, ...), os atributos/features a serem utilizados e o processo de avaliação.\n",
        "\n",
        "Essa prática foca mais no processo de avaliação.\n",
        "Para a avaliação é preciso definir qual a função de custo/erro adequada, e qual o estimador para o desempenho.\n",
        "\n",
        "Utilizaremos medidas de desempenho para classificação binária baseadas na matriz de confusão (TFP, TFN, TVP, TVN).\n",
        "\n",
        "Nas aplicações reais, o cliente dita qual a medida de desempenho deve ser utilizada, e muitas vezes não é uma das clássicas. E como essa medida, em geral, tem um impacto grande no treinamento do algoritmo de classificação, muitas vezes o algoritmo precisa ser adaptado e isso não é uma tarefa fácil.\n",
        "\n",
        "Após a definição do tipo do problema e da medida de avaliação, é preciso definir como será estimado o desempenho final.\n",
        "\n",
        "Esse processo está ligado á escolha do algoritmo de classificação bem como a escolha de alguns hiperparâmetros. Uma abordagem muito comum na área é a utilização do 10-fold Cross-Validation. Esse procedimento pode ser utilizado para estimar o desempenho do classificador final, bem como, na escolha de alguns poucos hiperparâmetros.\n",
        "\n",
        "---\n"
      ]
    },
    {
      "cell_type": "markdown",
      "metadata": {
        "colab_type": "text",
        "id": "-DsLbxZc8sDL"
      },
      "source": [
        "### Questão 01.\n",
        "\n",
        "Dada a introdução acima, já definimos que o tipo do problema é classificação. Defina quais os atributos você utilizará, e a medida de avaliação você acha adequada e explique o porquê dessas escolhas. Você também deve fazer nessa questão os pré-processamentos que achar necessário.\n",
        "\n",
        "Lembre-se que o objetivo da classificação é fazer predições para dados não vistos, ou seja, quando o algoritmo for colocado em produção ele classificará corretamente amostras não vistas.\n",
        "\n",
        "**RESPOSTA:**\n",
        "\n",
        "Primeiramente, iremos carregar o conjunto de dados \"*breast cancer*\", cujo os dados podem ser visualizados a seguir."
      ]
    },
    {
      "cell_type": "code",
      "metadata": {
        "colab_type": "code",
        "id": "wRDthSyd90j4",
        "colab": {
          "base_uri": "https://localhost:8080/",
          "height": 473
        },
        "outputId": "b0a6d310-9f88-4666-bb63-b4e4eb52fd99"
      },
      "source": [
        "import numpy as np\n",
        "import pandas as pd\n",
        "from sklearn.datasets import load_breast_cancer\n",
        "\n",
        "# 1. Carregando o conjunto de dados\n",
        "breast_cancer = load_breast_cancer()\n",
        "\n",
        "# 2. Extraindo os cabeçalhos\n",
        "original_headers = list(breast_cancer.feature_names)\n",
        "original_headers.append('class')\n",
        "\n",
        "# 3. Imprimindo o conjunto de dados parcial\n",
        "breast_cancer_df = pd.DataFrame(data= np.column_stack(\\\n",
        "            (np.array(breast_cancer.data),\\\n",
        "             np.array(breast_cancer.target))),\\\n",
        "            columns=original_headers)\n",
        "breast_cancer_df"
      ],
      "execution_count": null,
      "outputs": [
        {
          "output_type": "execute_result",
          "data": {
            "text/html": [
              "<div>\n",
              "<style scoped>\n",
              "    .dataframe tbody tr th:only-of-type {\n",
              "        vertical-align: middle;\n",
              "    }\n",
              "\n",
              "    .dataframe tbody tr th {\n",
              "        vertical-align: top;\n",
              "    }\n",
              "\n",
              "    .dataframe thead th {\n",
              "        text-align: right;\n",
              "    }\n",
              "</style>\n",
              "<table border=\"1\" class=\"dataframe\">\n",
              "  <thead>\n",
              "    <tr style=\"text-align: right;\">\n",
              "      <th></th>\n",
              "      <th>mean radius</th>\n",
              "      <th>mean texture</th>\n",
              "      <th>mean perimeter</th>\n",
              "      <th>mean area</th>\n",
              "      <th>mean smoothness</th>\n",
              "      <th>mean compactness</th>\n",
              "      <th>mean concavity</th>\n",
              "      <th>mean concave points</th>\n",
              "      <th>mean symmetry</th>\n",
              "      <th>mean fractal dimension</th>\n",
              "      <th>radius error</th>\n",
              "      <th>texture error</th>\n",
              "      <th>perimeter error</th>\n",
              "      <th>area error</th>\n",
              "      <th>smoothness error</th>\n",
              "      <th>compactness error</th>\n",
              "      <th>concavity error</th>\n",
              "      <th>concave points error</th>\n",
              "      <th>symmetry error</th>\n",
              "      <th>fractal dimension error</th>\n",
              "      <th>worst radius</th>\n",
              "      <th>worst texture</th>\n",
              "      <th>worst perimeter</th>\n",
              "      <th>worst area</th>\n",
              "      <th>worst smoothness</th>\n",
              "      <th>worst compactness</th>\n",
              "      <th>worst concavity</th>\n",
              "      <th>worst concave points</th>\n",
              "      <th>worst symmetry</th>\n",
              "      <th>worst fractal dimension</th>\n",
              "      <th>class</th>\n",
              "    </tr>\n",
              "  </thead>\n",
              "  <tbody>\n",
              "    <tr>\n",
              "      <th>0</th>\n",
              "      <td>17.99</td>\n",
              "      <td>10.38</td>\n",
              "      <td>122.80</td>\n",
              "      <td>1001.0</td>\n",
              "      <td>0.11840</td>\n",
              "      <td>0.27760</td>\n",
              "      <td>0.30010</td>\n",
              "      <td>0.14710</td>\n",
              "      <td>0.2419</td>\n",
              "      <td>0.07871</td>\n",
              "      <td>1.0950</td>\n",
              "      <td>0.9053</td>\n",
              "      <td>8.589</td>\n",
              "      <td>153.40</td>\n",
              "      <td>0.006399</td>\n",
              "      <td>0.04904</td>\n",
              "      <td>0.05373</td>\n",
              "      <td>0.01587</td>\n",
              "      <td>0.03003</td>\n",
              "      <td>0.006193</td>\n",
              "      <td>25.380</td>\n",
              "      <td>17.33</td>\n",
              "      <td>184.60</td>\n",
              "      <td>2019.0</td>\n",
              "      <td>0.16220</td>\n",
              "      <td>0.66560</td>\n",
              "      <td>0.7119</td>\n",
              "      <td>0.2654</td>\n",
              "      <td>0.4601</td>\n",
              "      <td>0.11890</td>\n",
              "      <td>0.0</td>\n",
              "    </tr>\n",
              "    <tr>\n",
              "      <th>1</th>\n",
              "      <td>20.57</td>\n",
              "      <td>17.77</td>\n",
              "      <td>132.90</td>\n",
              "      <td>1326.0</td>\n",
              "      <td>0.08474</td>\n",
              "      <td>0.07864</td>\n",
              "      <td>0.08690</td>\n",
              "      <td>0.07017</td>\n",
              "      <td>0.1812</td>\n",
              "      <td>0.05667</td>\n",
              "      <td>0.5435</td>\n",
              "      <td>0.7339</td>\n",
              "      <td>3.398</td>\n",
              "      <td>74.08</td>\n",
              "      <td>0.005225</td>\n",
              "      <td>0.01308</td>\n",
              "      <td>0.01860</td>\n",
              "      <td>0.01340</td>\n",
              "      <td>0.01389</td>\n",
              "      <td>0.003532</td>\n",
              "      <td>24.990</td>\n",
              "      <td>23.41</td>\n",
              "      <td>158.80</td>\n",
              "      <td>1956.0</td>\n",
              "      <td>0.12380</td>\n",
              "      <td>0.18660</td>\n",
              "      <td>0.2416</td>\n",
              "      <td>0.1860</td>\n",
              "      <td>0.2750</td>\n",
              "      <td>0.08902</td>\n",
              "      <td>0.0</td>\n",
              "    </tr>\n",
              "    <tr>\n",
              "      <th>2</th>\n",
              "      <td>19.69</td>\n",
              "      <td>21.25</td>\n",
              "      <td>130.00</td>\n",
              "      <td>1203.0</td>\n",
              "      <td>0.10960</td>\n",
              "      <td>0.15990</td>\n",
              "      <td>0.19740</td>\n",
              "      <td>0.12790</td>\n",
              "      <td>0.2069</td>\n",
              "      <td>0.05999</td>\n",
              "      <td>0.7456</td>\n",
              "      <td>0.7869</td>\n",
              "      <td>4.585</td>\n",
              "      <td>94.03</td>\n",
              "      <td>0.006150</td>\n",
              "      <td>0.04006</td>\n",
              "      <td>0.03832</td>\n",
              "      <td>0.02058</td>\n",
              "      <td>0.02250</td>\n",
              "      <td>0.004571</td>\n",
              "      <td>23.570</td>\n",
              "      <td>25.53</td>\n",
              "      <td>152.50</td>\n",
              "      <td>1709.0</td>\n",
              "      <td>0.14440</td>\n",
              "      <td>0.42450</td>\n",
              "      <td>0.4504</td>\n",
              "      <td>0.2430</td>\n",
              "      <td>0.3613</td>\n",
              "      <td>0.08758</td>\n",
              "      <td>0.0</td>\n",
              "    </tr>\n",
              "    <tr>\n",
              "      <th>3</th>\n",
              "      <td>11.42</td>\n",
              "      <td>20.38</td>\n",
              "      <td>77.58</td>\n",
              "      <td>386.1</td>\n",
              "      <td>0.14250</td>\n",
              "      <td>0.28390</td>\n",
              "      <td>0.24140</td>\n",
              "      <td>0.10520</td>\n",
              "      <td>0.2597</td>\n",
              "      <td>0.09744</td>\n",
              "      <td>0.4956</td>\n",
              "      <td>1.1560</td>\n",
              "      <td>3.445</td>\n",
              "      <td>27.23</td>\n",
              "      <td>0.009110</td>\n",
              "      <td>0.07458</td>\n",
              "      <td>0.05661</td>\n",
              "      <td>0.01867</td>\n",
              "      <td>0.05963</td>\n",
              "      <td>0.009208</td>\n",
              "      <td>14.910</td>\n",
              "      <td>26.50</td>\n",
              "      <td>98.87</td>\n",
              "      <td>567.7</td>\n",
              "      <td>0.20980</td>\n",
              "      <td>0.86630</td>\n",
              "      <td>0.6869</td>\n",
              "      <td>0.2575</td>\n",
              "      <td>0.6638</td>\n",
              "      <td>0.17300</td>\n",
              "      <td>0.0</td>\n",
              "    </tr>\n",
              "    <tr>\n",
              "      <th>4</th>\n",
              "      <td>20.29</td>\n",
              "      <td>14.34</td>\n",
              "      <td>135.10</td>\n",
              "      <td>1297.0</td>\n",
              "      <td>0.10030</td>\n",
              "      <td>0.13280</td>\n",
              "      <td>0.19800</td>\n",
              "      <td>0.10430</td>\n",
              "      <td>0.1809</td>\n",
              "      <td>0.05883</td>\n",
              "      <td>0.7572</td>\n",
              "      <td>0.7813</td>\n",
              "      <td>5.438</td>\n",
              "      <td>94.44</td>\n",
              "      <td>0.011490</td>\n",
              "      <td>0.02461</td>\n",
              "      <td>0.05688</td>\n",
              "      <td>0.01885</td>\n",
              "      <td>0.01756</td>\n",
              "      <td>0.005115</td>\n",
              "      <td>22.540</td>\n",
              "      <td>16.67</td>\n",
              "      <td>152.20</td>\n",
              "      <td>1575.0</td>\n",
              "      <td>0.13740</td>\n",
              "      <td>0.20500</td>\n",
              "      <td>0.4000</td>\n",
              "      <td>0.1625</td>\n",
              "      <td>0.2364</td>\n",
              "      <td>0.07678</td>\n",
              "      <td>0.0</td>\n",
              "    </tr>\n",
              "    <tr>\n",
              "      <th>...</th>\n",
              "      <td>...</td>\n",
              "      <td>...</td>\n",
              "      <td>...</td>\n",
              "      <td>...</td>\n",
              "      <td>...</td>\n",
              "      <td>...</td>\n",
              "      <td>...</td>\n",
              "      <td>...</td>\n",
              "      <td>...</td>\n",
              "      <td>...</td>\n",
              "      <td>...</td>\n",
              "      <td>...</td>\n",
              "      <td>...</td>\n",
              "      <td>...</td>\n",
              "      <td>...</td>\n",
              "      <td>...</td>\n",
              "      <td>...</td>\n",
              "      <td>...</td>\n",
              "      <td>...</td>\n",
              "      <td>...</td>\n",
              "      <td>...</td>\n",
              "      <td>...</td>\n",
              "      <td>...</td>\n",
              "      <td>...</td>\n",
              "      <td>...</td>\n",
              "      <td>...</td>\n",
              "      <td>...</td>\n",
              "      <td>...</td>\n",
              "      <td>...</td>\n",
              "      <td>...</td>\n",
              "      <td>...</td>\n",
              "    </tr>\n",
              "    <tr>\n",
              "      <th>564</th>\n",
              "      <td>21.56</td>\n",
              "      <td>22.39</td>\n",
              "      <td>142.00</td>\n",
              "      <td>1479.0</td>\n",
              "      <td>0.11100</td>\n",
              "      <td>0.11590</td>\n",
              "      <td>0.24390</td>\n",
              "      <td>0.13890</td>\n",
              "      <td>0.1726</td>\n",
              "      <td>0.05623</td>\n",
              "      <td>1.1760</td>\n",
              "      <td>1.2560</td>\n",
              "      <td>7.673</td>\n",
              "      <td>158.70</td>\n",
              "      <td>0.010300</td>\n",
              "      <td>0.02891</td>\n",
              "      <td>0.05198</td>\n",
              "      <td>0.02454</td>\n",
              "      <td>0.01114</td>\n",
              "      <td>0.004239</td>\n",
              "      <td>25.450</td>\n",
              "      <td>26.40</td>\n",
              "      <td>166.10</td>\n",
              "      <td>2027.0</td>\n",
              "      <td>0.14100</td>\n",
              "      <td>0.21130</td>\n",
              "      <td>0.4107</td>\n",
              "      <td>0.2216</td>\n",
              "      <td>0.2060</td>\n",
              "      <td>0.07115</td>\n",
              "      <td>0.0</td>\n",
              "    </tr>\n",
              "    <tr>\n",
              "      <th>565</th>\n",
              "      <td>20.13</td>\n",
              "      <td>28.25</td>\n",
              "      <td>131.20</td>\n",
              "      <td>1261.0</td>\n",
              "      <td>0.09780</td>\n",
              "      <td>0.10340</td>\n",
              "      <td>0.14400</td>\n",
              "      <td>0.09791</td>\n",
              "      <td>0.1752</td>\n",
              "      <td>0.05533</td>\n",
              "      <td>0.7655</td>\n",
              "      <td>2.4630</td>\n",
              "      <td>5.203</td>\n",
              "      <td>99.04</td>\n",
              "      <td>0.005769</td>\n",
              "      <td>0.02423</td>\n",
              "      <td>0.03950</td>\n",
              "      <td>0.01678</td>\n",
              "      <td>0.01898</td>\n",
              "      <td>0.002498</td>\n",
              "      <td>23.690</td>\n",
              "      <td>38.25</td>\n",
              "      <td>155.00</td>\n",
              "      <td>1731.0</td>\n",
              "      <td>0.11660</td>\n",
              "      <td>0.19220</td>\n",
              "      <td>0.3215</td>\n",
              "      <td>0.1628</td>\n",
              "      <td>0.2572</td>\n",
              "      <td>0.06637</td>\n",
              "      <td>0.0</td>\n",
              "    </tr>\n",
              "    <tr>\n",
              "      <th>566</th>\n",
              "      <td>16.60</td>\n",
              "      <td>28.08</td>\n",
              "      <td>108.30</td>\n",
              "      <td>858.1</td>\n",
              "      <td>0.08455</td>\n",
              "      <td>0.10230</td>\n",
              "      <td>0.09251</td>\n",
              "      <td>0.05302</td>\n",
              "      <td>0.1590</td>\n",
              "      <td>0.05648</td>\n",
              "      <td>0.4564</td>\n",
              "      <td>1.0750</td>\n",
              "      <td>3.425</td>\n",
              "      <td>48.55</td>\n",
              "      <td>0.005903</td>\n",
              "      <td>0.03731</td>\n",
              "      <td>0.04730</td>\n",
              "      <td>0.01557</td>\n",
              "      <td>0.01318</td>\n",
              "      <td>0.003892</td>\n",
              "      <td>18.980</td>\n",
              "      <td>34.12</td>\n",
              "      <td>126.70</td>\n",
              "      <td>1124.0</td>\n",
              "      <td>0.11390</td>\n",
              "      <td>0.30940</td>\n",
              "      <td>0.3403</td>\n",
              "      <td>0.1418</td>\n",
              "      <td>0.2218</td>\n",
              "      <td>0.07820</td>\n",
              "      <td>0.0</td>\n",
              "    </tr>\n",
              "    <tr>\n",
              "      <th>567</th>\n",
              "      <td>20.60</td>\n",
              "      <td>29.33</td>\n",
              "      <td>140.10</td>\n",
              "      <td>1265.0</td>\n",
              "      <td>0.11780</td>\n",
              "      <td>0.27700</td>\n",
              "      <td>0.35140</td>\n",
              "      <td>0.15200</td>\n",
              "      <td>0.2397</td>\n",
              "      <td>0.07016</td>\n",
              "      <td>0.7260</td>\n",
              "      <td>1.5950</td>\n",
              "      <td>5.772</td>\n",
              "      <td>86.22</td>\n",
              "      <td>0.006522</td>\n",
              "      <td>0.06158</td>\n",
              "      <td>0.07117</td>\n",
              "      <td>0.01664</td>\n",
              "      <td>0.02324</td>\n",
              "      <td>0.006185</td>\n",
              "      <td>25.740</td>\n",
              "      <td>39.42</td>\n",
              "      <td>184.60</td>\n",
              "      <td>1821.0</td>\n",
              "      <td>0.16500</td>\n",
              "      <td>0.86810</td>\n",
              "      <td>0.9387</td>\n",
              "      <td>0.2650</td>\n",
              "      <td>0.4087</td>\n",
              "      <td>0.12400</td>\n",
              "      <td>0.0</td>\n",
              "    </tr>\n",
              "    <tr>\n",
              "      <th>568</th>\n",
              "      <td>7.76</td>\n",
              "      <td>24.54</td>\n",
              "      <td>47.92</td>\n",
              "      <td>181.0</td>\n",
              "      <td>0.05263</td>\n",
              "      <td>0.04362</td>\n",
              "      <td>0.00000</td>\n",
              "      <td>0.00000</td>\n",
              "      <td>0.1587</td>\n",
              "      <td>0.05884</td>\n",
              "      <td>0.3857</td>\n",
              "      <td>1.4280</td>\n",
              "      <td>2.548</td>\n",
              "      <td>19.15</td>\n",
              "      <td>0.007189</td>\n",
              "      <td>0.00466</td>\n",
              "      <td>0.00000</td>\n",
              "      <td>0.00000</td>\n",
              "      <td>0.02676</td>\n",
              "      <td>0.002783</td>\n",
              "      <td>9.456</td>\n",
              "      <td>30.37</td>\n",
              "      <td>59.16</td>\n",
              "      <td>268.6</td>\n",
              "      <td>0.08996</td>\n",
              "      <td>0.06444</td>\n",
              "      <td>0.0000</td>\n",
              "      <td>0.0000</td>\n",
              "      <td>0.2871</td>\n",
              "      <td>0.07039</td>\n",
              "      <td>1.0</td>\n",
              "    </tr>\n",
              "  </tbody>\n",
              "</table>\n",
              "<p>569 rows × 31 columns</p>\n",
              "</div>"
            ],
            "text/plain": [
              "     mean radius  mean texture  ...  worst fractal dimension  class\n",
              "0          17.99         10.38  ...                  0.11890    0.0\n",
              "1          20.57         17.77  ...                  0.08902    0.0\n",
              "2          19.69         21.25  ...                  0.08758    0.0\n",
              "3          11.42         20.38  ...                  0.17300    0.0\n",
              "4          20.29         14.34  ...                  0.07678    0.0\n",
              "..           ...           ...  ...                      ...    ...\n",
              "564        21.56         22.39  ...                  0.07115    0.0\n",
              "565        20.13         28.25  ...                  0.06637    0.0\n",
              "566        16.60         28.08  ...                  0.07820    0.0\n",
              "567        20.60         29.33  ...                  0.12400    0.0\n",
              "568         7.76         24.54  ...                  0.07039    1.0\n",
              "\n",
              "[569 rows x 31 columns]"
            ]
          },
          "metadata": {
            "tags": []
          },
          "execution_count": 115
        }
      ]
    },
    {
      "cell_type": "markdown",
      "metadata": {
        "id": "YbmkxUbYoFkj",
        "colab_type": "text"
      },
      "source": [
        "Observando o dataset, nota-se que todos os dados são númericos e o problema se trata de um problema de classificação binário.\n",
        "\n",
        "Frente a isso, iremos analisar a estratificação dos dados."
      ]
    },
    {
      "cell_type": "code",
      "metadata": {
        "id": "Eeg52VmQoFkk",
        "colab_type": "code",
        "colab": {
          "base_uri": "https://localhost:8080/",
          "height": 265
        },
        "outputId": "4564ff14-6535-433e-fa2c-b4bd63a91033"
      },
      "source": [
        "import matplotlib.pyplot as plt\n",
        "\n",
        "# 1. Construindo um gráfico sobre a distribuição das classes\n",
        "plt.bar([0,1],[list(breast_cancer.target).count(0),list(breast_cancer.target).count(1)],\\\n",
        "    color=['r','b'],align='center',tick_label=breast_cancer.target_names)\n",
        "plt.show()"
      ],
      "execution_count": null,
      "outputs": [
        {
          "output_type": "display_data",
          "data": {
            "image/png": "[encoded data removed]",
            "text/plain": [
              "<Figure size 432x288 with 1 Axes>"
            ]
          },
          "metadata": {
            "tags": [],
            "needs_background": "light"
          }
        }
      ]
    },
    {
      "cell_type": "markdown",
      "metadata": {
        "id": "z8N4QhLooFkp",
        "colab_type": "text"
      },
      "source": [
        "O conjunto de dados apresenta uma distribuição desbalanceada dos dados entre as classes, possuindo mais exemplos da classe 1 (\"*benign*\") do que da classe 0 (\"*malignant*\"). Desta forma, é necessário que, durante o processo de treinamento, se utilize uma abordagem estratificada para generalização e validação do conhecimento.\n",
        "\n",
        "Após a definição do método de validação e treino com o conjunto de dados, passaremos a uma análise sobre a relevância dos parâmetros.\n",
        "\n",
        "O conjunto de dados \"*breast cancer*\" possui 30 parâmetros, dos quais alguns possívelmente podem ser descardados sem uma grande perda de informação. Para realizar está análise, aplicaremos o método de extração de componentes principais (PCA) de forma a definir os parâmetros que melhor representam o conjunto. Define-se que, nesta aplicação, aceitaremos uma perda de no máximo 10% da informação.\n",
        "\n",
        "Contudo, antes da aplicação do PCA, será realizada uma normalização dos dados para uma extração mais precisa das componentes relevantes."
      ]
    },
    {
      "cell_type": "code",
      "metadata": {
        "id": "cVmVuMjHoFkq",
        "colab_type": "code",
        "colab": {}
      },
      "source": [
        "from sklearn.preprocessing import StandardScaler\n",
        "\n",
        "# 1. Inicializando o algoritmo de normalização \n",
        "scaler = StandardScaler()\n",
        "\n",
        "# 2. Normalizando os dados\n",
        "breast_cancer_norm = scaler.fit_transform(breast_cancer.data)"
      ],
      "execution_count": null,
      "outputs": []
    },
    {
      "cell_type": "markdown",
      "metadata": {
        "id": "xmY36AsFoFku",
        "colab_type": "text"
      },
      "source": [
        "Realizada a normalização, passaremos a aplicação do PCA."
      ]
    },
    {
      "cell_type": "code",
      "metadata": {
        "id": "tOPvrPCIoFkv",
        "colab_type": "code",
        "colab": {
          "base_uri": "https://localhost:8080/",
          "height": 68
        },
        "outputId": "ae76487b-3500-4ffc-96b9-2529e9c67f90"
      },
      "source": [
        "from sklearn.decomposition import PCA\n",
        "\n",
        "# 1. Inicializando o método PCA para extrair 90% da informação\n",
        "pca = PCA(.9)\n",
        "\n",
        "# 2. Extraindo os dados relevantes\n",
        "breast_cancer_pca = pca.fit_transform(np.array(breast_cancer_norm))\n",
        "\n",
        "# 3. Imprimindo os resultados\n",
        "print('Número de componentes extraídos:', pca.n_components_)\n",
        "print('Variância explicada:', pca.explained_variance_)"
      ],
      "execution_count": null,
      "outputs": [
        {
          "output_type": "stream",
          "text": [
            "Número de componentes extraídos: 7\n",
            "Variância explicada: [13.30499079  5.7013746   2.82291016  1.98412752  1.65163324  1.20948224\n",
            "  0.67640888]\n"
          ],
          "name": "stdout"
        }
      ]
    },
    {
      "cell_type": "markdown",
      "metadata": {
        "id": "E-uSgXRAoFkz",
        "colab_type": "text"
      },
      "source": [
        "Analisando os resultados, temos que,com a normalização e análise de componentes principais do conjunto de dados, é possível resolver o problema de classificação proposto utilizando 7 dos 30 parâmetros disponíveis, mantendo ainda 90% da informação original.\n",
        "\n",
        "Acredita-se que esta redução de parâmetros e normalização contruibuirá para o aprendizado, uma vez que reduzirá a ambiguidade de certos exemplos e favorecerá a generalização do conhecimento, ao invés da memorização de exemplos.\n",
        "\n",
        "O conjunto de dados final é definido no passo abaixo."
      ]
    },
    {
      "cell_type": "code",
      "metadata": {
        "id": "cgA2Rh7joFk0",
        "colab_type": "code",
        "colab": {}
      },
      "source": [
        "# Definindo o conjunto de dados a ser utilizado nos próximos exercícios\n",
        "X, y = breast_cancer_pca, breast_cancer.target\n",
        "headers = [original_headers[list(component).index(max(component))] for component in pca.components_]\n",
        "headers.append('class')\n",
        "data_df = pd.DataFrame(data= np.column_stack((np.array(X),np.array(y))),columns=headers)"
      ],
      "execution_count": null,
      "outputs": []
    },
    {
      "cell_type": "markdown",
      "metadata": {
        "colab_type": "text",
        "id": "K6f0yT8l86PD"
      },
      "source": [
        "\n",
        "\n",
        "---\n",
        "\n",
        "### Questão 02.\n",
        "Uma boa prática é escolher modelos mais simples, dados dois modelos com desempenho similar a escolha do mais simples é indicada pois com isso há algumas garantias de melhor generalização. Generalização, de maneira geral, é a propriedade que garante que o classificador terá desempenho parecido ao reportado no teste.\n",
        "\n",
        "A definição da complexidade de um modelo nem sempre é uma tarefa fácil. Uma maneira de tentar mensurar isso é através do número de parâmetros do modelo, do tipo de função que ele implementa (linear ou não linear, cortes ortogonais no espaço, ...), ou da chamada dimensão VC (Vapnik-Chervonenkis) do classificador. A dimensão VC é um tópico mais avançado e faz parte da chamada teoria do aprendizado estatístico, ela é citada aqui apenas como curiosidade não é esperado que saibem sobre isso.\n",
        "\n",
        "Execute a função *classificacao* definida no notebook com a medida de desempenho que você definiu. Diga qual o modelo tem o melhor desempenho e explique porque você acha isso."
      ]
    },
    {
      "cell_type": "code",
      "metadata": {
        "colab_type": "code",
        "id": "WaR7HyvO9zss",
        "colab": {}
      },
      "source": [
        "from sklearn.svm import SVC\n",
        "from sklearn.tree import DecisionTreeClassifier\n",
        "from sklearn.neighbors import KNeighborsClassifier\n",
        "from sklearn.linear_model import Perceptron\n",
        "from sklearn.model_selection import KFold\n",
        "from sklearn.metrics import mean_squared_error\n",
        "from numpy import mean, std\n",
        "from sklearn.metrics import confusion_matrix\n",
        "from sklearn.metrics import balanced_accuracy_score\n",
        "import warnings\n",
        "warnings.filterwarnings('ignore')\n",
        "from matplotlib import pyplot as plt\n",
        "\n",
        "\n",
        "def classificacao(data, columns, target, score=balanced_accuracy_score, score_name='acurácia', \n",
        "                  folds=5, plot=True):\n",
        "    \"\"\"\n",
        "    Executa classificação do conjunto de dados passado\n",
        "    ---------------------------------------------------------------\n",
        "    data:       DataFrame. Conjunto de dados\n",
        "    columns:    Lista de inteiros. Índice das colunas utilizadas no treinamento e teste\n",
        "    target:     Inteiro. Índice da coluna alvo\n",
        "    score:      Função. A função que calcula a medida de desempenho desejada. Deve ser uma \n",
        "                função que compara dois vetores, o primeiro vetor são os valores preditos\n",
        "                pelo classificador, o segundo os rótulos reais\n",
        "                Vide exemplo das funções em \n",
        "                http://scikit-learn.org/stable/modules/classes.html#module-sklearn.metrics\n",
        "                como por exemplo, sklearn.metrics.accuracy_score\n",
        "                http://scikit-learn.org/stable/modules/generated/sklearn.metrics.accuracy_score.html\n",
        "    score_name: String. Uma string com o nome da medida de desempenho\n",
        "    folds:      Inteiro. Número de folds na validação cruzada\n",
        "    plot:       Booleano. True para plotar os gráficos False para não plotar\n",
        "    ---------------------------------------------------------------\n",
        "    Realiza a classificação em 6 modelos (perceptron, \n",
        "    SVM com kernel polinomial de grau 3, Árvore de decisão, 3NN, 5NN, e 7NN)\n",
        "    Plot o gráfico de desempenho para cada classificador.\n",
        "    Retorna um dicionário com os classificadores treinados, as medidas de desempenho e matriz de confusão\n",
        "    \"\"\"\n",
        "    import numpy as np\n",
        "    # inicializa os modelos com os parâmetros solicitados\n",
        "    prcp = Perceptron()\n",
        "    svm_n = SVC(C=10*len(data), kernel='poly', degree=3, gamma=1, coef0=1, cache_size=500, max_iter=1e6)\n",
        "    dt = DecisionTreeClassifier(criterion='gini', splitter='best', min_samples_split=int(len(data)*0.1))\n",
        "    _3nn = KNeighborsClassifier(n_neighbors=3, weights='uniform', algorithm='auto')\n",
        "    _5nn = KNeighborsClassifier(n_neighbors=5, weights='uniform', algorithm='auto')\n",
        "    _7nn = KNeighborsClassifier(n_neighbors=7, weights='uniform', algorithm='auto')\n",
        "    \n",
        "    clfs = [prcp, svm_n, dt, _3nn, _5nn, _7nn]\n",
        "    clfs_names = ['perceptron', 'svm_poly', 'dt', '3nn', '5nn', '7nn']\n",
        "    \n",
        "    #Inicializa estruturas para matrizes de confusão \n",
        "    confusion_matrices = {\n",
        "        'perceptron':np.array([[0,0],[0,0]]),\n",
        "        'svm_poly':np.array([[0,0],[0,0]]),\n",
        "        'dt':np.array([[0,0],[0,0]]),\n",
        "        '3nn':np.array([[0,0],[0,0]]),\n",
        "        '5nn':np.array([[0,0],[0,0]]),\n",
        "        '7nn':np.array([[0,0],[0,0]])\n",
        "    }\n",
        "\n",
        "    # prepara validação cruzada\n",
        "    # faz divisão do dataset em fold partes\n",
        "    cv = KFold(n_splits=folds, shuffle=True)\n",
        "    \n",
        "    # itera para cada classificador fazendo treino e teste\n",
        "    results = {'perceptron':[], 'svm_poly':[], 'dt':[], '3nn':[], '5nn':[], '7nn':[]}\n",
        "    for c, c_name in zip(clfs, clfs_names):\n",
        "        for train_index, test_index in cv.split(data):\n",
        "            \n",
        "            # separa conjunto de treino e de teste\n",
        "            x_train, y_train = data.iloc[train_index, columns], data.iloc[train_index, target]\n",
        "            x_test, y_test = data.iloc[test_index, columns], data.iloc[test_index, target]\n",
        "            \n",
        "            # faz o treino do modelo\n",
        "            clf = c.fit(X=x_train, y=y_train)\n",
        "            \n",
        "            # valores predito pelo classificador\n",
        "            y_pred = clf.predict(x_test)\n",
        "            # rótulos verdadeiros convertidos para array\n",
        "            y_test = np.array(y_test)\n",
        "            \n",
        "            # realiza predição no conjunto de teste e salva o resultado\n",
        "            results[c_name].append( score(y_test, y_pred) )\n",
        "            confusion_matrices[c_name] += confusion_matrix(y_test, y_pred)        \n",
        "    \n",
        "    if not plot:\n",
        "        return {'results': results, 'clfs':clfs}\n",
        "    # faz o plot de desempenho dos classificadores\n",
        "    plt.figure(figsize=(8,8))\n",
        "    plt.bar(range(1, len(clfs)+1), [mean(results[name]) for name in clfs_names], \n",
        "                                yerr=[std(results[name]) for name in clfs_names])\n",
        "    plt.xticks(range(1, len(clfs)+1), clfs_names, rotation=45)\n",
        "    title = 'Desempenho dos classificadores - %s'%(score_name)\n",
        "    plt.title(title)\n",
        "    plt.show()\n",
        "    \n",
        "    return {'results': results, 'clfs':clfs, 'confusion_matrices': confusion_matrices}"
      ],
      "execution_count": null,
      "outputs": []
    },
    {
      "cell_type": "code",
      "metadata": {
        "colab_type": "code",
        "id": "YiDHzc6ikoyz",
        "colab": {
          "base_uri": "https://localhost:8080/",
          "height": 636
        },
        "outputId": "8b7f902f-6e44-4e06-ed4a-8348d561e4fa"
      },
      "source": [
        "result = classificacao(data_df,np.arange(0,len(X[0])),len(X[0]))\n",
        "\n",
        "for cls in result['results']:\n",
        "    print(cls,':',np.mean(result['results'][cls]),np.array(result['results'][cls]).std())"
      ],
      "execution_count": null,
      "outputs": [
        {
          "output_type": "display_data",
          "data": {
            "image/png": "[encoded data removed]",
            "text/plain": [
              "<Figure size 576x576 with 1 Axes>"
            ]
          },
          "metadata": {
            "tags": [],
            "needs_background": "light"
          }
        },
        {
          "output_type": "stream",
          "text": [
            "perceptron : 0.9585369326051202 0.030266557512558592\n",
            "svm_poly : 0.9408366547458709 0.010945606720808803\n",
            "dt : 0.917257031819768 0.030358008505260096\n",
            "3nn : 0.9565536055216697 0.016042758020818348\n",
            "5nn : 0.9515666920982231 0.016229935392929284\n",
            "7nn : 0.9501928592253099 0.023354345054414086\n"
          ],
          "name": "stdout"
        }
      ]
    },
    {
      "cell_type": "markdown",
      "metadata": {
        "id": "_aYEeVi8oFlD",
        "colab_type": "text"
      },
      "source": [
        "**RESPOSTA:**\n",
        "\n",
        "Os classificadores que apresentaram melhores desempenhos foram o *perceptron* e o *3nn*.\n",
        "Não é possível dizer quais dos dois é significativamente melhor que outro, estatisticamente, uma vez que ambos ocupam um intervalo de confiana similar considerando média e desvio padrão.\n",
        "\n",
        "Para confirmar esta afirmação, basta se realizar um teste-p e se analisar a similaridade entre os resultados."
      ]
    },
    {
      "cell_type": "markdown",
      "metadata": {
        "colab_type": "text",
        "id": "njxCEyHt9BH6"
      },
      "source": [
        "---\n",
        "\n",
        "### Questão 03.\n",
        "\n",
        "Utilizar os 3 procedimentos de amostragem para estimação do desempenho:\n",
        "- 10-fold Cross Validation;\n",
        "- Leave-one-out;\n",
        "- Boostrap (1000 amostras de boostrap).\n",
        "\n",
        "Para o dataset escolhido, executar os 3 procedimentos acima para estimar o desempenho. Avalie a diferença na variância entre essas abordagens.\n",
        "\n",
        "  * Para o 10-fold Cross Validation e o leave-one-out, você pode utilizar a função *classificacao* já disponível apenas ajustando o parâmetro *folds*.\n",
        "  * Já para o boostrap, você vai precisar implementar a função classificação modificada `classificacao_bootstrap`. A seção de interesse que vocês precisarão modificar está destacada na função. No cálculo do bootstrap utilize 80% do dataset para treino e 20% para teste.\n",
        "\n",
        "Essas execuções podem demorar um pouco, então tenham paciência.\n",
        "\n",
        "**No material complementar há exemplos de como fazer o bootstrap**"
      ]
    },
    {
      "cell_type": "code",
      "metadata": {
        "colab_type": "code",
        "id": "M2wJGs-fDZpw",
        "colab": {}
      },
      "source": [
        "from sklearn.svm import SVC\n",
        "from sklearn.tree import DecisionTreeClassifier\n",
        "from sklearn.neighbors import KNeighborsClassifier\n",
        "from sklearn.model_selection import train_test_split\n",
        "from sklearn.linear_model import Perceptron\n",
        "from sklearn.metrics import mean_squared_error\n",
        "from numpy import mean, std\n",
        "from sklearn.metrics import confusion_matrix\n",
        "from sklearn.metrics import balanced_accuracy_score\n",
        "import warnings\n",
        "warnings.filterwarnings('ignore')\n",
        "from matplotlib import pyplot as plt\n",
        "\n",
        "\n",
        "def classificacao_bootstrap(data, columns, target, score=balanced_accuracy_score, no_bs=1000, p_teste=0.2, score_name='acurácia', plot=True):\n",
        "    \"\"\"\n",
        "    Executa classificação do conjunto de dados passado\n",
        "    ---------------------------------------------------------------\n",
        "    data:       DataFrame. Conjunto de dados\n",
        "    columns:    Lista de inteiros. Índice das colunas utilizadas no treinamento e teste\n",
        "    target:     Inteiro. Índice da coluna alvo\n",
        "    score:      Função. A função que calcula a medida de desempenho desejada. Deve ser uma \n",
        "                função que compara dois vetores, o primeiro vetor são os valores preditos\n",
        "                pelo classificador, o segundo os rótulos reais\n",
        "                Vide exemplo das funções em \n",
        "                http://scikit-learn.org/stable/modules/classes.html#module-sklearn.metrics\n",
        "                como por exemplo, sklearn.metrics.accuracy_score\n",
        "                http://scikit-learn.org/stable/modules/generated/sklearn.metrics.accuracy_score.html\n",
        "    no_bs:      Número de repetições do bootstrap\n",
        "    p_teste:    Porcentagem para teste da amostra do bootstrap\n",
        "    score_name: String. Uma string com o nome da medida de desempenho    \n",
        "    plot:       Booleano. True para plotar os gráficos False para não plotar\n",
        "    ---------------------------------------------------------------\n",
        "    Realiza a classificação em 6 modelos (perceptron, \n",
        "    SVM com kernel polinomial de grau 3, Árvore de decisão, 3NN, 5NN, e 7NN)\n",
        "    Plot o gráfico de desempenho para cada classificador.\n",
        "    Retorna um dicionário com os classificadores treinados, medidas de desempenho e matriz de confusão\n",
        "    \"\"\"\n",
        "    import numpy as np\n",
        "    # inicializa os modelos com os parâmetros solicitados\n",
        "    prcp = Perceptron()\n",
        "    svm_n = SVC(C=10*len(data), kernel='poly', degree=3, gamma=1, coef0=1, cache_size=500, max_iter=1e6)\n",
        "    dt = DecisionTreeClassifier(criterion='gini', splitter='best', min_samples_split=int(len(data)*0.1))\n",
        "    _3nn = KNeighborsClassifier(n_neighbors=3, weights='uniform', algorithm='auto')\n",
        "    _5nn = KNeighborsClassifier(n_neighbors=5, weights='uniform', algorithm='auto')\n",
        "    _7nn = KNeighborsClassifier(n_neighbors=7, weights='uniform', algorithm='auto')\n",
        "    \n",
        "    clfs = [prcp, svm_n, dt, _3nn, _5nn, _7nn]\n",
        "    clfs_names = ['perceptron', 'svm_poly', 'dt', '3nn', '5nn', '7nn']\n",
        "    confusion_matrices = {\n",
        "        'perceptron':np.array([[0,0],[0,0]]),\n",
        "        'svm_poly':np.array([[0,0],[0,0]]),\n",
        "        'dt':np.array([[0,0],[0,0]]),\n",
        "        '3nn':np.array([[0,0],[0,0]]),\n",
        "        '5nn':np.array([[0,0],[0,0]]),\n",
        "        '7nn':np.array([[0,0],[0,0]])\n",
        "    }\n",
        "    \n",
        "    # itera para cada classificador fazendo treino e teste\n",
        "    results = {'perceptron':[], 'svm_poly':[], 'dt':[], '3nn':[], '5nn':[], '7nn':[]}\n",
        "    for c, c_name in zip(clfs, clfs_names):\n",
        "      for i in range(0, no_bs):\n",
        "        ################# IMPLEMENTE ABAIXO O BOOTSTRAP #######################\n",
        "        #    Sua implementação deve fazer o append no vetor results da mesma \n",
        "        #    forma que a implementação original faz.\n",
        "        #    Dentro desse loop:\n",
        "        #     c: variável-objeto que representa o classificador\n",
        "        #     c_name: Nome do classificador\n",
        "        #     results: vetor de resultado\n",
        "        #######################################################################\n",
        "        #    X1 = data.iloc[:, columns]\n",
        "            X1 = data.drop(data.columns[target],axis = 1)\n",
        "            y1 = data.iloc[:, target]\n",
        "\n",
        "            # separa conjunto de treino e de teste\n",
        "            x_train, x_test, y_train, y_test = train_test_split(X1, y1, test_size=p_teste) \n",
        "\n",
        "            # faz o treino do modelo\n",
        "            clf = c.fit(X=x_train, y=y_train)\n",
        "            \n",
        "            # valores predito pelo classificador\n",
        "            y_pred = clf.predict(x_test)\n",
        "            # rótulos verdadeiros convertidos para array\n",
        "            y_test = np.array(y_test)\n",
        "            \n",
        "            # realiza predição no conjunto de teste e salva o resultado\n",
        "            results[c_name].append( score(y_test, y_pred) )\n",
        "            confusion_matrices[c_name] += confusion_matrix(y_test, y_pred)        \n",
        "          \n",
        "\n",
        "\n",
        "\n",
        "\n",
        "        #######################################################################\n",
        "        \n",
        "    if not plot:\n",
        "        return {'results': results, 'clfs':clfs}\n",
        "    # faz o plot de desempenho dos classificadores\n",
        "    plt.figure(figsize=(8,8))\n",
        "    plt.bar(range(1, len(clfs)+1), [mean(results[name]) for name in clfs_names], \n",
        "                                yerr=[std(results[name]) for name in clfs_names])\n",
        "    plt.xticks(range(1, len(clfs)+1), clfs_names, rotation=45)\n",
        "    title = 'Desempenho dos classificadores - %s'%(score_name)\n",
        "    plt.title(title)\n",
        "    plt.show()\n",
        "    \n",
        "    return {'results': results, 'clfs':clfs, 'confusion_matrices': confusion_matrices}"
      ],
      "execution_count": null,
      "outputs": []
    },
    {
      "cell_type": "markdown",
      "metadata": {
        "id": "ufXzjy5SlYNd",
        "colab_type": "text"
      },
      "source": [
        "**10-FOLD**"
      ]
    },
    {
      "cell_type": "code",
      "metadata": {
        "id": "L6wk6hr1UTXF",
        "colab_type": "code",
        "colab": {
          "base_uri": "https://localhost:8080/",
          "height": 636
        },
        "outputId": "4b7530f5-4bf0-49bf-a736-97f4afd47e0c"
      },
      "source": [
        "result_kfold = classificacao(data_df,np.arange(0,len(X[0])),len(X[0]),folds = 10)\n",
        "\n",
        "for cls in result_kfold['results']:\n",
        "    print(cls,':',np.mean(result_kfold['results'][cls]),np.array(result_kfold['results'][cls]).std())"
      ],
      "execution_count": null,
      "outputs": [
        {
          "output_type": "display_data",
          "data": {
            "image/png": "[encoded data removed]",
            "text/plain": [
              "<Figure size 576x576 with 1 Axes>"
            ]
          },
          "metadata": {
            "tags": [],
            "needs_background": "light"
          }
        },
        {
          "output_type": "stream",
          "text": [
            "perceptron : 0.953106103619221 0.02667501758406466\n",
            "svm_poly : 0.9479034289616888 0.02548241886000756\n",
            "dt : 0.9298038549345014 0.018698524693697954\n",
            "3nn : 0.9559915320294576 0.03293174779067303\n",
            "5nn : 0.9553826810066735 0.038326978053927804\n",
            "7nn : 0.9504107981718336 0.022372839607696825\n"
          ],
          "name": "stdout"
        }
      ]
    },
    {
      "cell_type": "markdown",
      "metadata": {
        "id": "dOaotjmhlctW",
        "colab_type": "text"
      },
      "source": [
        "**Leave-One-Out**"
      ]
    },
    {
      "cell_type": "code",
      "metadata": {
        "id": "uZyPYAPxU0a-",
        "colab_type": "code",
        "colab": {
          "base_uri": "https://localhost:8080/",
          "height": 119
        },
        "outputId": "b6837268-2e34-4524-d4b7-9d0a8f3d3273"
      },
      "source": [
        "samples = data_df.shape[0]\n",
        "result = classificacao(data_df,np.arange(0,len(X[0])),len(X[0]), folds = samples,plot=False)\n",
        "\n",
        "for cls in result['results']:\n",
        "    print(cls,':',np.mean(result['results'][cls]),np.array(result['results'][cls]).std())"
      ],
      "execution_count": null,
      "outputs": [
        {
          "output_type": "stream",
          "text": [
            "perceptron : 0.961335676625659 0.19279365516620442\n",
            "svm_poly : 0.9472759226713533 0.22348209995095722\n",
            "dt : 0.9367311072056239 0.24344596936271062\n",
            "3nn : 0.9630931458699473 0.18853312241692638\n",
            "5nn : 0.9648506151142355 0.18415728502537412\n",
            "7nn : 0.961335676625659 0.19279365516620442\n"
          ],
          "name": "stdout"
        }
      ]
    },
    {
      "cell_type": "markdown",
      "metadata": {
        "id": "qHAKO7aDliwO",
        "colab_type": "text"
      },
      "source": [
        "**Bootstrap**"
      ]
    },
    {
      "cell_type": "code",
      "metadata": {
        "colab_type": "code",
        "id": "ENLXredtknpo",
        "colab": {
          "base_uri": "https://localhost:8080/",
          "height": 636
        },
        "outputId": "4ea90e10-4225-47d0-c976-76c69efd99f3"
      },
      "source": [
        "result = classificacao_bootstrap(data_df,np.arange(0,len(X[0])),len(X[0]))\n",
        "\n",
        "for cls in result['results']:\n",
        "    print(cls,':',np.mean(result['results'][cls]),np.array(result['results'][cls]).std())"
      ],
      "execution_count": null,
      "outputs": [
        {
          "output_type": "display_data",
          "data": {
            "image/png": "[encoded data removed]",
            "text/plain": [
              "<Figure size 576x576 with 1 Axes>"
            ]
          },
          "metadata": {
            "tags": [],
            "needs_background": "light"
          }
        },
        {
          "output_type": "stream",
          "text": [
            "perceptron : 0.9562126940724833 0.020921952073893538\n",
            "svm_poly : 0.940084357260274 0.021875400561031905\n",
            "dt : 0.9166870477920702 0.03190501381401069\n",
            "3nn : 0.9554755768391989 0.019653946490070986\n",
            "5nn : 0.9541744438224914 0.02006053049651248\n",
            "7nn : 0.9493442932364039 0.02102938757413121\n"
          ],
          "name": "stdout"
        }
      ]
    },
    {
      "cell_type": "markdown",
      "metadata": {
        "colab_type": "text",
        "id": "CIT-mDF49RUD"
      },
      "source": [
        "\n",
        "\n",
        "---\n",
        "\n",
        "### Questão 04.\n",
        "\n",
        "Utilizando o 10-fold cross validation, calcule as medidas de avaliação baseadas na matriz de confusão (TFP, TFN, TVN, TVP). Como em meio a tantas medidas de avaliação, comparar os classificadores? Como escolher o melhor?"
      ]
    },
    {
      "cell_type": "code",
      "metadata": {
        "colab_type": "code",
        "id": "Bey7Lbpkkl_-",
        "colab": {
          "base_uri": "https://localhost:8080/",
          "height": 527
        },
        "outputId": "b3a7614f-e7f1-40ad-96d6-a6392f007c0e"
      },
      "source": [
        "import pylab as pl\n",
        "for cls in result_kfold['confusion_matrices']:\n",
        "#    cm = (result_kfold['confusion_matrices'][cls])\n",
        "#    pl.matshow(cm)\n",
        "#    print(cls, ':\\n')\n",
        "#    pl.title('Confusion matrix of the classifier')\n",
        "#    pl.colorbar()\n",
        "#    pl.show()\n",
        "#    print('\\n')\n",
        "    print(cls,':',\n",
        "          '\\nTP: ',(result_kfold['confusion_matrices'][cls][0][0]*100/569),\n",
        "          '\\nTN: ', (result_kfold['confusion_matrices'][cls][0][1]*100/569),\n",
        "          '\\nFP: ',(result_kfold['confusion_matrices'][cls][1][0]*100/569),\n",
        "          '\\nFN: ', (result_kfold['confusion_matrices'][cls][1][1]*100/569)\n",
        "          )"
      ],
      "execution_count": null,
      "outputs": [
        {
          "output_type": "stream",
          "text": [
            "perceptron : \n",
            "TP:  35.32513181019332 \n",
            "TN:  1.9332161687170475 \n",
            "FP:  2.6362038664323375 \n",
            "FN:  60.105448154657296\n",
            "svm_poly : \n",
            "TP:  34.973637961335676 \n",
            "TN:  2.2847100175746924 \n",
            "FP:  2.81195079086116 \n",
            "FN:  59.929701230228474\n",
            "dt : \n",
            "TP:  34.62214411247803 \n",
            "TN:  2.6362038664323375 \n",
            "FP:  4.393673110720562 \n",
            "FN:  58.34797891036907\n",
            "3nn : \n",
            "TP:  34.62214411247803 \n",
            "TN:  2.6362038664323375 \n",
            "FP:  0.8787346221441125 \n",
            "FN:  61.86291739894552\n",
            "5nn : \n",
            "TP:  34.27065026362039 \n",
            "TN:  2.9876977152899826 \n",
            "FP:  0.70298769771529 \n",
            "FN:  62.03866432337434\n",
            "7nn : \n",
            "TP:  34.27065026362039 \n",
            "TN:  2.9876977152899826 \n",
            "FP:  1.2302284710017575 \n",
            "FN:  61.511423550087876\n"
          ],
          "name": "stdout"
        }
      ]
    },
    {
      "cell_type": "markdown",
      "metadata": {
        "id": "Ek09k0UmjUuY",
        "colab_type": "text"
      },
      "source": [
        "Em meio a tantas medidas de avaliação, a escolha do melhor modelo se baseia na performance de um sub-grupo que deseja-se melhorar ao invés de apenas do desempenho geral. Por isso é importante o uso de métricas como acurácia, precisão e recall. A acurácia indica uma performance geral do modelo, isto é, quantas o modelo classificou corretamente dentre todas as classificações. Já a precisão determina quantas estão corretas dentre todas as classificações de classe Positivo que o modelo fez. Por fim o recall apresenta, entre todas as situações de classe Positivo como valor esperado, quantas estão corretas.\n",
        "Como nosso banco de dados é sobre câncer de mama, a pior situação possível é existir um câncer e o classificador dizer que não existe. Portanto precisamos de uma medida do quão exato é a classificação para as amostras positiva que é exatamente o que a precisão encontra. Assim fazendo a precisão de todos os modelos usados, nota-se que as com melhores resultados são do algoritmo KNN com 3 e 5 vizinhos.\n",
        "\n"
      ]
    },
    {
      "cell_type": "code",
      "metadata": {
        "id": "36uYmvPFPMPS",
        "colab_type": "code",
        "colab": {
          "base_uri": "https://localhost:8080/",
          "height": 119
        },
        "outputId": "a73861e2-87b5-4644-bdd0-f38a8c0f1c79"
      },
      "source": [
        "for cls in result_kfold['confusion_matrices']:\n",
        "  cm = result_kfold['confusion_matrices'][cls]\n",
        "  tp_and_fn = cm.sum(1)\n",
        "  tp_and_fp = cm.sum(0)\n",
        "  tp = cm.diagonal()\n",
        "\n",
        "  precision = (np.sum(tp / tp_and_fp)/2)\n",
        "  print(cls,':', precision)"
      ],
      "execution_count": null,
      "outputs": [
        {
          "output_type": "stream",
          "text": [
            "perceptron : 0.9496970412338684\n",
            "svm_poly : 0.9444291157535146\n",
            "dt : 0.9220798608406677\n",
            "3nn : 0.9671877950737853\n",
            "5nn : 0.9669767757707457\n",
            "7nn : 0.9595125043839534\n"
          ],
          "name": "stdout"
        }
      ]
    }
  ]
}