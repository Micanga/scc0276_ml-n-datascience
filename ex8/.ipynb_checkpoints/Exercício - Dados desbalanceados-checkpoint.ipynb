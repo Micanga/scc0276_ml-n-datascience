{
 "cells": [
  {
   "cell_type": "markdown",
   "metadata": {
    "colab_type": "text",
    "id": "HaabIE4ETRhY"
   },
   "source": [
    "# Exercício 04\n",
    "## Dados desbalanceados\n",
    "### Alunos:\n",
    "\n",
    "- Fernanda Tostes Marana (4471070)\n",
    "- Matheus Aparecido do Carmo Alves (9791114)\n",
    "- Thais Bianchini (9791010)\n",
    "\n",
    "\n",
    "---\n",
    "\n",
    "O dataset que será utilizado nessa questão possui 5 variáveis (`Deviations\tEmotionCount\tNumberWord\tSucRate\tTime2ans`) de entrada numéricas e 1 variável (`True Value`) de saída que representa a classe. Esse problema possui 3 classes possíveis, `-1`, `0` e `1`.\n",
    "\n",
    "**Esse exerício possui material complementar (\"Undersampling e Oversampling\")**"
   ]
  },
  {
   "cell_type": "code",
   "execution_count": 1,
   "metadata": {},
   "outputs": [],
   "source": [
    "# IMPORTS\n",
    "from IPython.display import display, HTML\n",
    "import matplotlib.pyplot as plt\n",
    "import numpy as np\n",
    "import pandas as pd\n",
    "from sklearn.preprocessing import MinMaxScaler"
   ]
  },
  {
   "cell_type": "markdown",
   "metadata": {
    "colab_type": "text",
    "id": "_YGNezFvvnES"
   },
   "source": [
    "### Questão 01.\n",
    "Carregue o dataset `DataBaseDT.csv` e mostre a distribuição das classes:\n",
    "\n",
    "*   Via histograma\n",
    "*   Exibindo o número de ocorrências de cada classe\n",
    "\n"
   ]
  },
  {
   "cell_type": "code",
   "execution_count": 2,
   "metadata": {
    "colab": {},
    "colab_type": "code",
    "id": "IXyPAd32wZq4"
   },
   "outputs": [
    {
     "data": {
      "text/html": [
       "<div>\n",
       "<style scoped>\n",
       "    .dataframe tbody tr th:only-of-type {\n",
       "        vertical-align: middle;\n",
       "    }\n",
       "\n",
       "    .dataframe tbody tr th {\n",
       "        vertical-align: top;\n",
       "    }\n",
       "\n",
       "    .dataframe thead th {\n",
       "        text-align: right;\n",
       "    }\n",
       "</style>\n",
       "<table border=\"1\" class=\"dataframe\">\n",
       "  <thead>\n",
       "    <tr style=\"text-align: right;\">\n",
       "      <th></th>\n",
       "      <th>Deviations</th>\n",
       "      <th>EmotionCount</th>\n",
       "      <th>NumberWord</th>\n",
       "      <th>SucRate</th>\n",
       "      <th>Time2ans</th>\n",
       "      <th>True Value</th>\n",
       "    </tr>\n",
       "  </thead>\n",
       "  <tbody>\n",
       "    <tr>\n",
       "      <td>0</td>\n",
       "      <td>10</td>\n",
       "      <td>6</td>\n",
       "      <td>1</td>\n",
       "      <td>1.21</td>\n",
       "      <td>72.41</td>\n",
       "      <td>-1</td>\n",
       "    </tr>\n",
       "    <tr>\n",
       "      <td>1</td>\n",
       "      <td>13</td>\n",
       "      <td>0</td>\n",
       "      <td>8</td>\n",
       "      <td>2.56</td>\n",
       "      <td>12.50</td>\n",
       "      <td>-1</td>\n",
       "    </tr>\n",
       "    <tr>\n",
       "      <td>2</td>\n",
       "      <td>15</td>\n",
       "      <td>0</td>\n",
       "      <td>3</td>\n",
       "      <td>1.12</td>\n",
       "      <td>22.63</td>\n",
       "      <td>-1</td>\n",
       "    </tr>\n",
       "    <tr>\n",
       "      <td>3</td>\n",
       "      <td>5</td>\n",
       "      <td>107</td>\n",
       "      <td>12</td>\n",
       "      <td>2.67</td>\n",
       "      <td>27.85</td>\n",
       "      <td>-1</td>\n",
       "    </tr>\n",
       "    <tr>\n",
       "      <td>4</td>\n",
       "      <td>18</td>\n",
       "      <td>87</td>\n",
       "      <td>5</td>\n",
       "      <td>1.38</td>\n",
       "      <td>26.90</td>\n",
       "      <td>-1</td>\n",
       "    </tr>\n",
       "    <tr>\n",
       "      <td>...</td>\n",
       "      <td>...</td>\n",
       "      <td>...</td>\n",
       "      <td>...</td>\n",
       "      <td>...</td>\n",
       "      <td>...</td>\n",
       "      <td>...</td>\n",
       "    </tr>\n",
       "    <tr>\n",
       "      <td>112</td>\n",
       "      <td>6</td>\n",
       "      <td>0</td>\n",
       "      <td>1</td>\n",
       "      <td>7.14</td>\n",
       "      <td>7.64</td>\n",
       "      <td>1</td>\n",
       "    </tr>\n",
       "    <tr>\n",
       "      <td>113</td>\n",
       "      <td>14</td>\n",
       "      <td>32</td>\n",
       "      <td>2</td>\n",
       "      <td>9.33</td>\n",
       "      <td>11.36</td>\n",
       "      <td>1</td>\n",
       "    </tr>\n",
       "    <tr>\n",
       "      <td>114</td>\n",
       "      <td>5</td>\n",
       "      <td>30</td>\n",
       "      <td>3</td>\n",
       "      <td>2.38</td>\n",
       "      <td>22.30</td>\n",
       "      <td>-1</td>\n",
       "    </tr>\n",
       "    <tr>\n",
       "      <td>115</td>\n",
       "      <td>11</td>\n",
       "      <td>0</td>\n",
       "      <td>1</td>\n",
       "      <td>7.14</td>\n",
       "      <td>14.28</td>\n",
       "      <td>1</td>\n",
       "    </tr>\n",
       "    <tr>\n",
       "      <td>116</td>\n",
       "      <td>14</td>\n",
       "      <td>5</td>\n",
       "      <td>2</td>\n",
       "      <td>9.33</td>\n",
       "      <td>16.92</td>\n",
       "      <td>1</td>\n",
       "    </tr>\n",
       "  </tbody>\n",
       "</table>\n",
       "<p>117 rows × 6 columns</p>\n",
       "</div>"
      ],
      "text/plain": [
       "     Deviations  EmotionCount  NumberWord  SucRate  Time2ans  True Value\n",
       "0            10             6           1     1.21     72.41          -1\n",
       "1            13             0           8     2.56     12.50          -1\n",
       "2            15             0           3     1.12     22.63          -1\n",
       "3             5           107          12     2.67     27.85          -1\n",
       "4            18            87           5     1.38     26.90          -1\n",
       "..          ...           ...         ...      ...       ...         ...\n",
       "112           6             0           1     7.14      7.64           1\n",
       "113          14            32           2     9.33     11.36           1\n",
       "114           5            30           3     2.38     22.30          -1\n",
       "115          11             0           1     7.14     14.28           1\n",
       "116          14             5           2     9.33     16.92           1\n",
       "\n",
       "[117 rows x 6 columns]"
      ]
     },
     "metadata": {},
     "output_type": "display_data"
    },
    {
     "data": {
      "image/png": "[encoded data removed]",
      "text/plain": [
       "<Figure size 432x288 with 1 Axes>"
      ]
     },
     "metadata": {
      "needs_background": "light"
     },
     "output_type": "display_data"
    },
    {
     "data": {
      "text/plain": [
       "-1    61\n",
       " 1    43\n",
       " 0    13\n",
       "Name: True Value, dtype: int64"
      ]
     },
     "execution_count": 2,
     "metadata": {},
     "output_type": "execute_result"
    }
   ],
   "source": [
    "# Carregando e apresentando o conjunto de dados parcialmente\n",
    "dataset = pd.read_csv('DataBaseDT.csv')\n",
    "display(dataset)\n",
    "\n",
    "# Criando um histograma de distribuição de classes\n",
    "plt.hist(dataset['True Value'])\n",
    "plt.xticks([-1,0,1],labels=['Classe -1','Classe 0','Classe 1'])\n",
    "plt.show()\n",
    "\n",
    "# Apresentando o número de ocorrências\n",
    "dataset['True Value'].value_counts()"
   ]
  },
  {
   "cell_type": "markdown",
   "metadata": {
    "colab_type": "text",
    "id": "ITDds1CcO7M9"
   },
   "source": [
    "\n",
    "\n",
    "---\n",
    "\n",
    "### Questão 02.\n",
    "\n",
    "Utilize a técnica de subamostragem aleatória nesse conjunto de dados. Ao final da sua operação, todas as classes devem ter o número de ocorrências da classe com **menor representatividade no conjunto de dados inicial**."
   ]
  },
  {
   "cell_type": "code",
   "execution_count": 3,
   "metadata": {
    "colab": {},
    "colab_type": "code",
    "id": "SU636BmTJzup"
   },
   "outputs": [
    {
     "name": "stdout",
     "output_type": "stream",
     "text": [
      "#Exemplos de menor representatividade: 13\n"
     ]
    },
    {
     "data": {
      "image/png": "[encoded data removed]",
      "text/plain": [
       "<Figure size 432x288 with 1 Axes>"
      ]
     },
     "metadata": {
      "needs_background": "light"
     },
     "output_type": "display_data"
    }
   ],
   "source": [
    "# Separando as classes\n",
    "classe_menos1 = dataset[dataset['True Value'] == -1]\n",
    "classe_0 = dataset[dataset['True Value'] == 0]\n",
    "classe_1 = dataset[dataset['True Value'] == 1]\n",
    "\n",
    "# Realizando o amostragem de tamanho igual ao número de exemplos da classe com menor representatividade\n",
    "menor_tamanho = min([len(classe_menos1),len(classe_0),len(classe_1)])\n",
    "print('#Exemplos de menor representatividade:',menor_tamanho)\n",
    "\n",
    "sample_menos1 = classe_menos1.sample(n=menor_tamanho,replace=False)\n",
    "sample_0 = classe_0.sample(n=menor_tamanho,replace=False)\n",
    "sample_1 = classe_1.sample(n=menor_tamanho,replace=False)\n",
    "\n",
    "# Concatenando o resultado\n",
    "subamostra = pd.concat([sample_menos1, sample_0, sample_1])\n",
    "\n",
    "# Apresentando o novo histograma\n",
    "plt.hist(subamostra['True Value'])\n",
    "plt.xticks([-1,0,1],labels=['Classe -1','Classe 0','Classe 1'])\n",
    "plt.show()"
   ]
  },
  {
   "cell_type": "markdown",
   "metadata": {
    "colab_type": "text",
    "id": "iJxBcsRMSEW4"
   },
   "source": [
    "\n",
    "\n",
    "---\n",
    "\n",
    "### Questão 03.\n",
    "\n",
    "Utilize a técnica de superamostragem aleatória nesse conjunto de dados. Ao final da sua operação, todas as classes devem ter o número de ocorrências da classe com **maior representatividade no conjunto de dados inicial**."
   ]
  },
  {
   "cell_type": "code",
   "execution_count": 4,
   "metadata": {
    "colab": {},
    "colab_type": "code",
    "id": "D5ElKqy5Kzvs"
   },
   "outputs": [
    {
     "name": "stdout",
     "output_type": "stream",
     "text": [
      "#Exemplos de maior representatividade: 61\n"
     ]
    },
    {
     "data": {
      "image/png": "[encoded data removed]",
      "text/plain": [
       "<Figure size 432x288 with 1 Axes>"
      ]
     },
     "metadata": {
      "needs_background": "light"
     },
     "output_type": "display_data"
    }
   ],
   "source": [
    "# Separando as classes\n",
    "classe_menos1 = dataset[dataset['True Value'] == -1]\n",
    "classe_0 = dataset[dataset['True Value'] == 0]\n",
    "classe_1 = dataset[dataset['True Value'] == 1]\n",
    "\n",
    "# Realizando o amostragem de tamanho igual ao número de exemplos da classe com menor representatividade\n",
    "maior_tamanho = max([len(classe_menos1),len(classe_0),len(classe_1)])\n",
    "print('#Exemplos de maior representatividade:',maior_tamanho)\n",
    "\n",
    "sample_menos1 = classe_menos1.sample(n=maior_tamanho,replace=True)\n",
    "sample_0 = classe_0.sample(n=maior_tamanho,replace=True)\n",
    "sample_1 = classe_1.sample(n=maior_tamanho,replace=True)\n",
    "\n",
    "# Concatenando o resultado\n",
    "superamostra = pd.concat([sample_menos1, sample_0, sample_1])\n",
    "\n",
    "# Apresentando o novo histograma\n",
    "plt.hist(superamostra['True Value'])\n",
    "plt.xticks([-1,0,1],labels=['Classe -1','Classe 0','Classe 1'])\n",
    "plt.show()"
   ]
  },
  {
   "cell_type": "markdown",
   "metadata": {
    "colab_type": "text",
    "id": "7dIPsLCbSRNk"
   },
   "source": [
    "---\n",
    "\n",
    "### Questão 04.\n",
    "\n",
    "Utilize as técnicas de subamostragem e superamostragem nesse conjunto de dados. Ao final da sua operação, todas as classes devem ter o número de ocorrências **igual à $\\frac{tamanho\\_dataset}{3}$**."
   ]
  },
  {
   "cell_type": "code",
   "execution_count": 5,
   "metadata": {
    "colab": {},
    "colab_type": "code",
    "id": "qc-Fx5bRK_kd"
   },
   "outputs": [
    {
     "name": "stdout",
     "output_type": "stream",
     "text": [
      "#Exemplos: 39\n"
     ]
    },
    {
     "data": {
      "image/png": "[encoded data removed]",
      "text/plain": [
       "<Figure size 432x288 with 1 Axes>"
      ]
     },
     "metadata": {
      "needs_background": "light"
     },
     "output_type": "display_data"
    }
   ],
   "source": [
    "# Separando as classes\n",
    "classe_menos1 = dataset[dataset['True Value'] == -1]\n",
    "classe_0 = dataset[dataset['True Value'] == 0]\n",
    "classe_1 = dataset[dataset['True Value'] == 1]\n",
    "\n",
    "# Definindo o tamanho da amostra\n",
    "tamanho = int(len(dataset)/3)\n",
    "print('#Exemplos:',tamanho)\n",
    "\n",
    "sample_menos1 = classe_menos1.sample(n=tamanho,replace=False)\n",
    "sample_0 = classe_0.sample(n=tamanho,replace=True)\n",
    "sample_1 = classe_1.sample(n=tamanho,replace=False)\n",
    "\n",
    "# Concatenando o resultado\n",
    "amostra_um_terço = pd.concat([sample_menos1, sample_0, sample_1])\n",
    "\n",
    "# Apresentando o novo histograma\n",
    "plt.hist(amostra_um_terço['True Value'])\n",
    "plt.xticks([-1,0,1],labels=['Classe -1','Classe 0','Classe 1'])\n",
    "plt.show()"
   ]
  },
  {
   "cell_type": "markdown",
   "metadata": {
    "colab_type": "text",
    "id": "Gx86EFEVfTHL"
   },
   "source": [
    "\n",
    "\n",
    "---\n",
    "\n",
    "### Questão 05.\n",
    "\n",
    "Para cada um dos conjuntos utilizados nas questões 1 a 4, separe o conjunto de dados em variáveis de entrada e variável alvo e normalize as **variáveis de entrada** entre 0 e 1 (`sklearn.preprocessing.MinMaxScaler`). "
   ]
  },
  {
   "cell_type": "code",
   "execution_count": 6,
   "metadata": {
    "colab": {},
    "colab_type": "code",
    "id": "57RuFi7rfqHX"
   },
   "outputs": [],
   "source": [
    "scaler = MinMaxScaler()\n",
    "dataset_minmax = np.concatenate((np.array(scaler.fit_transform(dataset.iloc[:,:-1])),\n",
    "                                np.array(dataset.iloc[:,-1]).reshape((len(dataset),1))),axis=1)\n",
    "subamostra_minmax = np.concatenate((np.array(scaler.fit_transform(subamostra.iloc[:,:-1])),\n",
    "                                np.array(subamostra.iloc[:,-1]).reshape((len(subamostra),1))),axis=1)\n",
    "superamostra_minmax = np.concatenate((np.array(scaler.fit_transform(superamostra.iloc[:,:-1])),\n",
    "                                np.array(superamostra.iloc[:,-1]).reshape((len(superamostra),1))),axis=1)\n",
    "amostra_um_terço_minmax = np.concatenate((np.array(scaler.fit_transform(amostra_um_terço.iloc[:,:-1])),\n",
    "                                np.array(amostra_um_terço.iloc[:,-1]).reshape((len(amostra_um_terço),1))),axis=1)"
   ]
  },
  {
   "cell_type": "markdown",
   "metadata": {
    "colab_type": "text",
    "id": "0Ez_fGsJTdZ_"
   },
   "source": [
    "\n",
    "\n",
    "---\n",
    "\n",
    "### Questão 06.\n",
    "\n",
    "Teste o score de classificação, utilizando a função `model_tester` abaixo, para cada um dos conjuntos da questão anterior."
   ]
  },
  {
   "cell_type": "code",
   "execution_count": 7,
   "metadata": {
    "colab": {},
    "colab_type": "code",
    "id": "iGof9cE6Lhzf"
   },
   "outputs": [],
   "source": [
    "from sklearn.svm import SVC\n",
    "from sklearn.tree import DecisionTreeClassifier\n",
    "from sklearn.model_selection import StratifiedKFold\n",
    "from sklearn.metrics import precision_score\n",
    "from sklearn.metrics import balanced_accuracy_score\n",
    "import numpy as np\n",
    "\n",
    "\n",
    "def model_tester(inputs, target, weights=None):\n",
    "  \"\"\"\n",
    "  Executa classificação do conjunto de dados passado\n",
    "  ---------------------------------------------------------------\n",
    "  inputs:     Variáveis de entrada (X)\n",
    "  target:     Variáveis alvo (y)  \n",
    "  weights:    Dicionário com o peso de cada classe. Cada chave do dicionário é\n",
    "              uma classe, e seu valor o associado a essa classe. Por exemplo, se\n",
    "              tivermos duas classes 0 e 1 com mesmo peso, teremos o dicionario:\n",
    "              {0: 0.5, 1: 0.5}\n",
    "\n",
    "  ---------------------------------------------------------------\n",
    "  Realiza a classificação em 3 modelos (SVM com kernel linear, \n",
    "  SVM com kernel polinomial de grau 3, Árvore de decisão)\n",
    "  O desempenho é calculado utilizando a acurácia balanceada.\n",
    "  \"\"\"\n",
    "\n",
    "  if isinstance(inputs, pd.core.frame.DataFrame):\n",
    "    inputs = inputs.values\n",
    "  if isinstance(target, pd.core.frame.DataFrame) or isinstance(target, pd.core.series.Series):\n",
    "    target = target.values\n",
    "  testes = {\n",
    "    \"SVM Linear\" : SVC(kernel='linear', class_weight=weights,gamma='auto'),\n",
    "    \"SVM Polinomial grau 3\" : SVC(kernel='poly', degree=3, class_weight=weights,gamma='auto'),\n",
    "    \"Decision Tree (gini)\" : DecisionTreeClassifier(criterion='gini', class_weight=weights)    \n",
    "  }\n",
    "  for teste in testes:\n",
    "    clf = testes[teste]    \n",
    "    skf = StratifiedKFold(n_splits=10)\n",
    "    scores = []\n",
    "    for train_index, test_index in skf.split(inputs, target):      \n",
    "      X_train, X_test = inputs[train_index], inputs[test_index]\n",
    "      y_train, y_test = target[train_index], target[test_index]\n",
    "      clf.fit(X_train, y_train)\n",
    "      y_pred = clf.predict(X_test)      \n",
    "      # scores.append(precision_score(y_test, y_pred,labels=[-1, 0, 1], average='macro', zero_division=0))\n",
    "      scores.append(balanced_accuracy_score(y_test, y_pred))\n",
    "    print(\"Score do classificador '%s': %.2f\" % (teste, np.mean(scores)*100))"
   ]
  },
  {
   "cell_type": "code",
   "execution_count": 8,
   "metadata": {
    "colab": {},
    "colab_type": "code",
    "id": "5LsrB3CTNOke"
   },
   "outputs": [
    {
     "name": "stdout",
     "output_type": "stream",
     "text": [
      "Score do classificador 'SVM Linear': 58.30\n",
      "Score do classificador 'SVM Polinomial grau 3': 33.33\n",
      "Score do classificador 'Decision Tree (gini)': 61.58\n",
      "-----\n",
      "Score do classificador 'SVM Linear': 71.67\n",
      "Score do classificador 'SVM Polinomial grau 3': 41.67\n",
      "Score do classificador 'Decision Tree (gini)': 66.67\n",
      "-----\n",
      "Score do classificador 'SVM Linear': 67.38\n",
      "Score do classificador 'SVM Polinomial grau 3': 51.75\n",
      "Score do classificador 'Decision Tree (gini)': 92.94\n",
      "-----\n",
      "Score do classificador 'SVM Linear': 69.17\n",
      "Score do classificador 'SVM Polinomial grau 3': 42.78\n",
      "Score do classificador 'Decision Tree (gini)': 79.72\n",
      "-----\n"
     ]
    }
   ],
   "source": [
    "for x, y in [(dataset_minmax[:,:-1],dataset_minmax[:,-1]), \n",
    "             (subamostra_minmax[:,:-1],subamostra_minmax[:,-1]),\n",
    "             (superamostra_minmax[:,:-1],superamostra_minmax[:,-1]), \n",
    "             (amostra_um_terço_minmax[:,:-1],amostra_um_terço_minmax[:,-1])]:\n",
    "    model_tester(x,y)\n",
    "    print('-----')"
   ]
  },
  {
   "cell_type": "markdown",
   "metadata": {
    "colab_type": "text",
    "id": "MC2T3bs5g6ZO"
   },
   "source": [
    "\n",
    "\n",
    "---\n",
    "\n",
    "### Questão 07.\n",
    "\n",
    "Teste o score de classificação no conjunto original alterando o parâmetro `weights`. Esse parâmetro faz com que o algoritmo de classificação leve em conta o peso de cada classe no processo de treinamento. Teste 2 conjuntos de `weights` diferentes e compare com o resultado do conjunto original sem o uso dessa variavel."
   ]
  },
  {
   "cell_type": "code",
   "execution_count": 9,
   "metadata": {
    "colab": {},
    "colab_type": "code",
    "id": "IRqbd82Gg8mp"
   },
   "outputs": [
    {
     "name": "stdout",
     "output_type": "stream",
     "text": [
      "Pesos: {-1: 0.5213675213675214, 0: 0.1111111111111111, 1: 0.36752136752136755}\n",
      "Score do classificador 'SVM Linear': 56.33\n",
      "Score do classificador 'SVM Polinomial grau 3': 33.33\n",
      "Score do classificador 'Decision Tree (gini)': 60.80\n",
      "Pesos: {-1: 0.3938741661591016, 0: 0.24575487421666461, 1: 0.36037095962423377}\n",
      "Score do classificador 'SVM Linear': 56.33\n",
      "Score do classificador 'SVM Polinomial grau 3': 33.33\n",
      "Score do classificador 'Decision Tree (gini)': 65.52\n"
     ]
    }
   ],
   "source": [
    "fator_normal = np.sum([np.log(len(classe_menos1)),np.log(len(classe_0)),np.log(len(classe_1))])\n",
    "for weights in [{-1:len(classe_menos1)/len(dataset),\n",
    "                 0:len(classe_0)/len(dataset),\n",
    "                 1:len(classe_1)/len(dataset)},\n",
    "                 {-1:np.log(len(classe_menos1))/(fator_normal),\n",
    "                  0:np.log(len(classe_0))/(fator_normal),\n",
    "                  1:np.log(len(classe_1))/(fator_normal)}]:\n",
    "    print('Pesos:',weights)\n",
    "    model_tester(dataset_minmax[:,:-1],dataset_minmax[:,-1],weights)"
   ]
  },
  {
   "cell_type": "code",
   "execution_count": null,
   "metadata": {},
   "outputs": [],
   "source": []
  }
 ],
 "metadata": {
  "colab": {
   "collapsed_sections": [],
   "name": "Exercício - Dados desbalanceados",
   "provenance": [
    {
     "file_id": "15HJOqk_IWMt_WBDBkdK96HF8Rm9g4o_r",
     "timestamp": 1588940384078
    },
    {
     "file_id": "1YGAsV9XGksB8g-Y04XZC32-srkzMf9my",
     "timestamp": 1551291992249
    }
   ],
   "toc_visible": true
  },
  "kernelspec": {
   "display_name": "Python 3",
   "language": "python",
   "name": "python3"
  },
  "language_info": {
   "codemirror_mode": {
    "name": "ipython",
    "version": 3
   },
   "file_extension": ".py",
   "mimetype": "text/x-python",
   "name": "python",
   "nbconvert_exporter": "python",
   "pygments_lexer": "ipython3",
   "version": "3.6.9"
  }
 },
 "nbformat": 4,
 "nbformat_minor": 1
}
