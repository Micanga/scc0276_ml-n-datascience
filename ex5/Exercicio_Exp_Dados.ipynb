{
  "nbformat": 4,
  "nbformat_minor": 0,
  "metadata": {
    "colab": {
      "name": "Exercicio - Exp. Dados",
      "provenance": [],
      "collapsed_sections": [],
      "toc_visible": true
    },
    "kernelspec": {
      "name": "python3",
      "display_name": "Python 3"
    }
  },
  "cells": [
    {
      "cell_type": "markdown",
      "metadata": {
        "id": "HaabIE4ETRhY",
        "colab_type": "text"
      },
      "source": [
        "# Exercício 01\n",
        "## Exploração de Dados\n",
        "### Alunos:\n",
        "\n",
        "- Fernanda Tostes Marana (4471070)\n",
        "- Matheus Aparecido do Carmo Alves (9791114)\n",
        "- Thais Bianchini (9791010)\n",
        "\n",
        "## Dados unidimensionais\n",
        " \n",
        "Suponha dois conjuntos de dados, que representam as notas finais em uma dada disciplina de duas salas com 100 alunos. Os dados foram armazenados nos arquivos \"notas_salas01.txt\" e \"notas_salas02.txt\". \n",
        "\n",
        "Imagine que uma pessoa deseje comparar o desempenho das salas de aula. Considera-se que, **quanto mais alunos foram aprovados, melhor o desempenho da sala**. Suponha que para ser aprovado, um aluno deve ter nota maior que 50. \n",
        "\n",
        "Como medida inicial de desempenho, essa pessoa calculou a média dos dados através do código abaixo:"
      ]
    },
    {
      "cell_type": "code",
      "metadata": {
        "id": "9p4v0FJRMUW_",
        "colab_type": "code",
        "outputId": "a9a4c160-e217-422c-c4f7-f8e86348ddd2",
        "colab": {
          "base_uri": "https://localhost:8080/",
          "height": 85
        }
      },
      "source": [
        "import numpy as np\n",
        "import pandas as pd\n",
        "\n",
        "salas = []\n",
        "salas.append(np.loadtxt(\"notas_sala01.txt\"))\n",
        "salas.append(np.loadtxt(\"notas_sala02.txt\"))\n",
        "\n",
        "for i in range(0,2):\n",
        "    print(\"--- Sala: %d ---\" % (i+1))\n",
        "    print(\"Média: %f\" % np.mean(salas[i]))        "
      ],
      "execution_count": 0,
      "outputs": [
        {
          "output_type": "stream",
          "text": [
            "--- Sala: 1 ---\n",
            "Média: 60.184709\n",
            "--- Sala: 2 ---\n",
            "Média: 55.184195\n"
          ],
          "name": "stdout"
        }
      ]
    },
    {
      "cell_type": "markdown",
      "metadata": {
        "id": "EjMiZQwCPEm5",
        "colab_type": "text"
      },
      "source": [
        "Com base na média, a pessoa concluiu que a sala 1 obteve um melhor desempenho que a sala 2. \n",
        "\n",
        "### Questão 01. \n",
        "Demonstre o porquê dessa conclusão estar equivocada.\n",
        "   - Dica: Transforme as estruturas `salas[0]` e `salas[1]` em estruturas do tipo `DataFrame` da biblioteca **pandas** e utilize as funções de histograma e/ou boxplot."
      ]
    },
    {
      "cell_type": "code",
      "metadata": {
        "id": "unbEq2aNMeIJ",
        "colab_type": "code",
        "outputId": "37f00858-5c88-41d2-e775-f116b42f8578",
        "colab": {
          "base_uri": "https://localhost:8080/",
          "height": 282
        }
      },
      "source": [
        "import pandas as pd\n",
        "import numpy as np\n",
        "\n",
        "n_salas = np.array(salas).T.tolist()\n",
        "\n",
        "df_salas = pd.DataFrame(data=n_salas,columns=['sala1', 'sala2'])\n",
        "\n",
        "df_salas.plot.hist(by= i, bins=100 )\n",
        "#df_salas.boxplot(column=['sala1', 'sala2'])\n"
      ],
      "execution_count": 0,
      "outputs": [
        {
          "output_type": "execute_result",
          "data": {
            "text/plain": [
              "<matplotlib.axes._subplots.AxesSubplot at 0x7f8732354240>"
            ]
          },
          "metadata": {
            "tags": []
          },
          "execution_count": 2
        },
        {
          "output_type": "display_data",
          "data": {
            "image/png": "[encoded data removed]",
            "text/plain": [
              "<Figure size 432x288 with 1 Axes>"
            ]
          },
          "metadata": {
            "tags": [],
            "needs_background": "light"
          }
        }
      ]
    },
    {
      "cell_type": "markdown",
      "metadata": {
        "id": "JZWmSWQkc213",
        "colab_type": "text"
      },
      "source": [
        "\n",
        "\n",
        "---\n",
        "\n",
        "### Questão 02.\n",
        "Calcule o número de aprovados em cada uma das salas.\n",
        "- Dica: Use a função `argwhere` da biblioteca **numpy**."
      ]
    },
    {
      "cell_type": "code",
      "metadata": {
        "id": "H3bTA1hEMiB0",
        "colab_type": "code",
        "outputId": "837bc9a0-ed9e-44a5-e552-8119021962fd",
        "colab": {
          "base_uri": "https://localhost:8080/",
          "height": 68
        }
      },
      "source": [
        "arraySalas = df_salas.values\n",
        "totalAlunos = len(arraySalas)\n",
        "\n",
        "aprovados = np.argwhere(arraySalas>=50)\n",
        "aprovados = aprovados[:,1]\n",
        "\n",
        "print(\"Total de Alunos: %d\" % totalAlunos)\n",
        "print(\"Aprovados da Sala 1: %d\" % len(np.argwhere(aprovados == 0)))   \n",
        "print(\"Aprovados da Sala 2: %d\" % len(np.argwhere(aprovados == 1)))            \n",
        "\n"
      ],
      "execution_count": 0,
      "outputs": [
        {
          "output_type": "stream",
          "text": [
            "Total de Alunos: 100\n",
            "Aprovados da Sala 1: 68\n",
            "Aprovados da Sala 2: 90\n"
          ],
          "name": "stdout"
        }
      ]
    },
    {
      "cell_type": "markdown",
      "metadata": {
        "id": "eKwZoSVU2VcP",
        "colab_type": "text"
      },
      "source": [
        "## Dados multidimensionais\n",
        "\n",
        "Considere o conjunto Iris, disponível no arquivo `iris.data`.  Ele contém 150 observações sobre 4 características medidas em 3 tipos de flores. \n",
        "\n",
        "O trecho de código abaixo carrega o conjunto, armazena-o na variável `iris` e exibe seu conteúdo.\n",
        "\n"
      ]
    },
    {
      "cell_type": "code",
      "metadata": {
        "id": "yma46nUyUUpS",
        "colab_type": "code",
        "outputId": "b1cc2680-8ef9-4fdd-8024-4ecea3776ef3",
        "colab": {
          "base_uri": "https://localhost:8080/",
          "height": 419
        }
      },
      "source": [
        "import pandas as pd\n",
        "\n",
        "iris = pd.read_csv(\"iris.data\", header=None)\n",
        "iris"
      ],
      "execution_count": 0,
      "outputs": [
        {
          "output_type": "execute_result",
          "data": {
            "text/html": [
              "<div>\n",
              "<style scoped>\n",
              "    .dataframe tbody tr th:only-of-type {\n",
              "        vertical-align: middle;\n",
              "    }\n",
              "\n",
              "    .dataframe tbody tr th {\n",
              "        vertical-align: top;\n",
              "    }\n",
              "\n",
              "    .dataframe thead th {\n",
              "        text-align: right;\n",
              "    }\n",
              "</style>\n",
              "<table border=\"1\" class=\"dataframe\">\n",
              "  <thead>\n",
              "    <tr style=\"text-align: right;\">\n",
              "      <th></th>\n",
              "      <th>0</th>\n",
              "      <th>1</th>\n",
              "      <th>2</th>\n",
              "      <th>3</th>\n",
              "      <th>4</th>\n",
              "    </tr>\n",
              "  </thead>\n",
              "  <tbody>\n",
              "    <tr>\n",
              "      <th>0</th>\n",
              "      <td>5.1</td>\n",
              "      <td>3.5</td>\n",
              "      <td>1.4</td>\n",
              "      <td>0.2</td>\n",
              "      <td>Iris-setosa</td>\n",
              "    </tr>\n",
              "    <tr>\n",
              "      <th>1</th>\n",
              "      <td>4.9</td>\n",
              "      <td>3.0</td>\n",
              "      <td>1.4</td>\n",
              "      <td>0.2</td>\n",
              "      <td>Iris-setosa</td>\n",
              "    </tr>\n",
              "    <tr>\n",
              "      <th>2</th>\n",
              "      <td>4.7</td>\n",
              "      <td>3.2</td>\n",
              "      <td>1.3</td>\n",
              "      <td>0.2</td>\n",
              "      <td>Iris-setosa</td>\n",
              "    </tr>\n",
              "    <tr>\n",
              "      <th>3</th>\n",
              "      <td>4.6</td>\n",
              "      <td>3.1</td>\n",
              "      <td>1.5</td>\n",
              "      <td>0.2</td>\n",
              "      <td>Iris-setosa</td>\n",
              "    </tr>\n",
              "    <tr>\n",
              "      <th>4</th>\n",
              "      <td>5.0</td>\n",
              "      <td>3.6</td>\n",
              "      <td>1.4</td>\n",
              "      <td>0.2</td>\n",
              "      <td>Iris-setosa</td>\n",
              "    </tr>\n",
              "    <tr>\n",
              "      <th>...</th>\n",
              "      <td>...</td>\n",
              "      <td>...</td>\n",
              "      <td>...</td>\n",
              "      <td>...</td>\n",
              "      <td>...</td>\n",
              "    </tr>\n",
              "    <tr>\n",
              "      <th>145</th>\n",
              "      <td>6.7</td>\n",
              "      <td>3.0</td>\n",
              "      <td>5.2</td>\n",
              "      <td>2.3</td>\n",
              "      <td>Iris-virginica</td>\n",
              "    </tr>\n",
              "    <tr>\n",
              "      <th>146</th>\n",
              "      <td>6.3</td>\n",
              "      <td>2.5</td>\n",
              "      <td>5.0</td>\n",
              "      <td>1.9</td>\n",
              "      <td>Iris-virginica</td>\n",
              "    </tr>\n",
              "    <tr>\n",
              "      <th>147</th>\n",
              "      <td>6.5</td>\n",
              "      <td>3.0</td>\n",
              "      <td>5.2</td>\n",
              "      <td>2.0</td>\n",
              "      <td>Iris-virginica</td>\n",
              "    </tr>\n",
              "    <tr>\n",
              "      <th>148</th>\n",
              "      <td>6.2</td>\n",
              "      <td>3.4</td>\n",
              "      <td>5.4</td>\n",
              "      <td>2.3</td>\n",
              "      <td>Iris-virginica</td>\n",
              "    </tr>\n",
              "    <tr>\n",
              "      <th>149</th>\n",
              "      <td>5.9</td>\n",
              "      <td>3.0</td>\n",
              "      <td>5.1</td>\n",
              "      <td>1.8</td>\n",
              "      <td>Iris-virginica</td>\n",
              "    </tr>\n",
              "  </tbody>\n",
              "</table>\n",
              "<p>150 rows × 5 columns</p>\n",
              "</div>"
            ],
            "text/plain": [
              "       0    1    2    3               4\n",
              "0    5.1  3.5  1.4  0.2     Iris-setosa\n",
              "1    4.9  3.0  1.4  0.2     Iris-setosa\n",
              "2    4.7  3.2  1.3  0.2     Iris-setosa\n",
              "3    4.6  3.1  1.5  0.2     Iris-setosa\n",
              "4    5.0  3.6  1.4  0.2     Iris-setosa\n",
              "..   ...  ...  ...  ...             ...\n",
              "145  6.7  3.0  5.2  2.3  Iris-virginica\n",
              "146  6.3  2.5  5.0  1.9  Iris-virginica\n",
              "147  6.5  3.0  5.2  2.0  Iris-virginica\n",
              "148  6.2  3.4  5.4  2.3  Iris-virginica\n",
              "149  5.9  3.0  5.1  1.8  Iris-virginica\n",
              "\n",
              "[150 rows x 5 columns]"
            ]
          },
          "metadata": {
            "tags": []
          },
          "execution_count": 4
        }
      ]
    },
    {
      "cell_type": "markdown",
      "metadata": {
        "id": "ESFpa2pDU_xu",
        "colab_type": "text"
      },
      "source": [
        "\n",
        "\n",
        "---\n",
        "\n",
        "\n",
        "### Questão 03.\n",
        "\n",
        "Calcule os quatro momentos (média, variância, obliquidade e achatamento) de cada uma das quatro variáveis do conjunto.\n",
        "\n",
        "  - Dica:  cada variável pode ser acessada da forma `iris[i]`, onde `i` é uma das 4 variáveis do conjunto (entre 0 e 3). Utilize as bibliotecas **numpy** para média (mean) e variância (variance) e **Scipy** para obliquidade (skew) e achatamento (kurtosis)."
      ]
    },
    {
      "cell_type": "code",
      "metadata": {
        "id": "5PlJlMtJe_6r",
        "colab_type": "code",
        "outputId": "db80d571-d913-4f6a-aafa-6aba3dafb6e7",
        "colab": {
          "base_uri": "https://localhost:8080/",
          "height": 357
        }
      },
      "source": [
        "import numpy as np\n",
        "from scipy.stats import skew, kurtosis\n",
        "\n",
        "for i in range (0,4):\n",
        "  print(\"--- Característica: %d ---\" % (i+1))\n",
        "  print(\"Média: %f\" % np.mean(iris[i])) \n",
        "  print(\"Variância: %f\" % np.var(iris[i]))  \n",
        "  print(\"Obliquidade: %f\" % skew(iris[i]))   \n",
        "  print(\"Achatamento: %f\" % kurtosis(iris[i]))  "
      ],
      "execution_count": 0,
      "outputs": [
        {
          "output_type": "stream",
          "text": [
            "--- Característica: 1 ---\n",
            "Média: 5.843333\n",
            "Variância: 0.681122\n",
            "Obliquidade: 0.311753\n",
            "Achatamento: -0.573568\n",
            "--- Característica: 2 ---\n",
            "Média: 3.054000\n",
            "Variância: 0.186751\n",
            "Obliquidade: 0.330703\n",
            "Achatamento: 0.241443\n",
            "--- Característica: 3 ---\n",
            "Média: 3.758667\n",
            "Variância: 3.092425\n",
            "Obliquidade: -0.271712\n",
            "Achatamento: -1.395359\n",
            "--- Característica: 4 ---\n",
            "Média: 1.198667\n",
            "Variância: 0.578532\n",
            "Obliquidade: -0.103944\n",
            "Achatamento: -1.335246\n"
          ],
          "name": "stdout"
        }
      ]
    },
    {
      "cell_type": "markdown",
      "metadata": {
        "id": "ULRqO72eYtBz",
        "colab_type": "text"
      },
      "source": [
        "\n",
        "\n",
        "---\n",
        "\n",
        "### Questão 04.\n",
        "\n",
        "Calcule o histograma e o boxplot de cada uma das quatro variáveis do conjunto. Analise se os dados estão centrados (simetria) e estime qual intervalo contém 50% dos dados (intervalo entre primeiro e terceiro quartil).\n"
      ]
    },
    {
      "cell_type": "code",
      "metadata": {
        "id": "eOgYGH7tBpE2",
        "colab_type": "code",
        "outputId": "d19050fa-9e9f-4c01-b72d-2f6eed66b053",
        "colab": {
          "base_uri": "https://localhost:8080/",
          "height": 255
        }
      },
      "source": [
        "df_iris = pd.DataFrame(data=iris)\n",
        "print(df_iris)"
      ],
      "execution_count": 0,
      "outputs": [
        {
          "output_type": "stream",
          "text": [
            "       0    1    2    3               4\n",
            "0    5.1  3.5  1.4  0.2     Iris-setosa\n",
            "1    4.9  3.0  1.4  0.2     Iris-setosa\n",
            "2    4.7  3.2  1.3  0.2     Iris-setosa\n",
            "3    4.6  3.1  1.5  0.2     Iris-setosa\n",
            "4    5.0  3.6  1.4  0.2     Iris-setosa\n",
            "..   ...  ...  ...  ...             ...\n",
            "145  6.7  3.0  5.2  2.3  Iris-virginica\n",
            "146  6.3  2.5  5.0  1.9  Iris-virginica\n",
            "147  6.5  3.0  5.2  2.0  Iris-virginica\n",
            "148  6.2  3.4  5.4  2.3  Iris-virginica\n",
            "149  5.9  3.0  5.1  1.8  Iris-virginica\n",
            "\n",
            "[150 rows x 5 columns]\n"
          ],
          "name": "stdout"
        }
      ]
    },
    {
      "cell_type": "code",
      "metadata": {
        "id": "xKa4GjuhqBvD",
        "colab_type": "code",
        "outputId": "db653d43-aefa-4f35-8385-87c7f889ecb0",
        "colab": {
          "base_uri": "https://localhost:8080/",
          "height": 282
        }
      },
      "source": [
        "df_iris.plot.hist(by= i, bins=100 )\n"
      ],
      "execution_count": 0,
      "outputs": [
        {
          "output_type": "execute_result",
          "data": {
            "text/plain": [
              "<matplotlib.axes._subplots.AxesSubplot at 0x7f8732bc5908>"
            ]
          },
          "metadata": {
            "tags": []
          },
          "execution_count": 7
        },
        {
          "output_type": "display_data",
          "data": {
            "image/png": "[encoded data removed]",
            "text/plain": [
              "<Figure size 432x288 with 1 Axes>"
            ]
          },
          "metadata": {
            "tags": [],
            "needs_background": "light"
          }
        }
      ]
    },
    {
      "cell_type": "code",
      "metadata": {
        "id": "0ffTUayzoWI9",
        "colab_type": "code",
        "outputId": "76dcd680-f885-4046-a448-72c4fa1c7e73",
        "colab": {
          "base_uri": "https://localhost:8080/",
          "height": 282
        }
      },
      "source": [
        "df_iris.boxplot()"
      ],
      "execution_count": 0,
      "outputs": [
        {
          "output_type": "execute_result",
          "data": {
            "text/plain": [
              "<matplotlib.axes._subplots.AxesSubplot at 0x7f8727ef7dd8>"
            ]
          },
          "metadata": {
            "tags": []
          },
          "execution_count": 8
        },
        {
          "output_type": "display_data",
          "data": {
            "image/png": "[encoded data removed]",
            "text/plain": [
              "<Figure size 432x288 with 1 Axes>"
            ]
          },
          "metadata": {
            "tags": [],
            "needs_background": "light"
          }
        }
      ]
    },
    {
      "cell_type": "code",
      "metadata": {
        "id": "-CqHs2HenqQ7",
        "colab_type": "code",
        "outputId": "98f454b7-eebf-4204-d20a-319e2847df45",
        "colab": {
          "base_uri": "https://localhost:8080/",
          "height": 102
        }
      },
      "source": [
        "median, percentile = np.median(df_iris.iloc[:,0:4]), np.percentile(df_iris.iloc[:,0:4],50,interpolation='nearest')\n",
        "print('Median          :',median,', equivalent to:')\n",
        "print('Percentile (50%):',percentile)\n",
        "\n",
        "list_iris = np.array(df_iris.iloc[:,0:4]).reshape((len(df_iris))*len(df_iris.iloc[0,0:4]))\n",
        "print('\\nNumber of samples before median value:',\\\n",
        "      len(np.argwhere(list_iris <= median)))\n",
        "print('Total of samples:',(len(df_iris))*len(df_iris.iloc[0,0:4]))"
      ],
      "execution_count": 0,
      "outputs": [
        {
          "output_type": "stream",
          "text": [
            "Median          : 3.2 , equivalent to:\n",
            "Percentile (50%): 3.2\n",
            "\n",
            "Number of samples before median value: 309\n",
            "Total of samples: 600\n"
          ],
          "name": "stdout"
        }
      ]
    },
    {
      "cell_type": "code",
      "metadata": {
        "id": "Ddzz9RjDtJCs",
        "colab_type": "code",
        "colab": {}
      },
      "source": [
        ""
      ],
      "execution_count": 0,
      "outputs": []
    }
  ]
}